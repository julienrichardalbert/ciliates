{
 "cells": [
  {
   "cell_type": "code",
   "execution_count": 1,
   "id": "2cf7a596",
   "metadata": {},
   "outputs": [],
   "source": [
    "from ete3 import EvolTree\n",
    "\n",
    "tree = EvolTree(\"((Hylobates_lar,(Gorilla_gorilla,Pan_troglodytes)),Papio_cynocephalus);\")\n",
    "\n",
    "tree.link_to_alignment ('''>Hylobates_lar\n",
    "ATGGCCAGGTACAGATGCTGCCGCAGCCAGAGCCGGAGCAGATGTTACCGCCAGAGCCGGAGCAGATGTTACCGCCAGAGGCAAAGCCAGAGTCGGAGCAGATGTTACCGCCAGAGCCAGAGCCGGAGCAGATGTTACCGCCAGAGACAAAGAAGTCGGAGACGAAGGAGGCGGAGCTGCCAGACACGGAGGAGAGCCATGAGGTGT---CGCCGCAGGTACAGGCTGAGACGTAGAAGCTGTTACCACATTGTATCT\n",
    ">Papio_cynocephalus\n",
    "ATGGCCAGGTACAGATGCTGCCGCAGCCAGAGCCGAAGCAGATGCTATCGCCAGAGCCGGAGCAGATGTAACCGCCAGAGACAGAGCCAAAGCCGGAGAAGCTGCTATCGCCAGAGCCAAAGCCGGAGCAGATGTTACCGCCAGAGACAGAGAAGTCGTAGACGAAGGAGGCGACGCTGCCAGACACGGAGGAGAGCCATGAGGTGCTTCCGCCGCAGGTACAGGCTGAGGCGTAGGAGGCCCTATCACATCGTGTCT\n",
    ">Gorilla_gorilla\n",
    "ATGGCCAGGTACAGATGCTGTCGCAGCCAGAGCCGCAGCAGATGTTACCGGCAGAGCCGGAGCAGGTGTTACCGGCAGAGACAAAGCCAGAGCCGGAGCAGATGCTACCGGCAGAGCCAAAGCCGGAGCAGGTGTTACCGGCAGAGACAAAGAAGTCGCAGACGTAGGCGGAGGAGCTGCCAGACACGGAGGAGAGCCATGAGGTGCTGCCGCCGCAGGTACAGACTGAGACGTAGAAGACCCTATCATATTGTATCT\n",
    ">Pan_troglodytes\n",
    "ATGGCCAGGTACAGATGCTGTCGCAGCCAGAGCCGGAGCAGATGTTACCGGCAGAGACGGAGCAGGTGTTACCGGCAAAGGCAAAGCCAAAGTCGGAGCAGATGTTACCGGCAGAGCCAGAGACGGAGCAGGTGTTACCGGCAAAGACAAAGAAGTCGCAGACGAAGGCGACGGAGCTGCCAGACACGGAGGAGAGCCATGAGGTGCTGCCGCCGCAGGTACAGACTGAGACGTAAAAGATGTTACCATATTGTATCT''')\n",
    "\n",
    "tree.workdir = '/Users/jra/bin/testing'"
   ]
  },
  {
   "cell_type": "code",
   "execution_count": 4,
   "id": "d343588f",
   "metadata": {},
   "outputs": [
    {
     "name": "stdout",
     "output_type": "stream",
     "text": [
      "current model log likelihood: -521.421323\n",
      "current model log likelihood: -521.421323\n",
      "current model log likelihood: -521.421323\n"
     ]
    }
   ],
   "source": [
    "best_model = None\n",
    "best_lnl   = float('-inf')\n",
    "for starting_omega in [0.2, 0.7, 1.2]:\n",
    "    tree.run_model('fb.'+str(starting_omega))\n",
    "    current_model = tree.get_evol_model('fb.'+str(starting_omega))\n",
    "    print('current model log likelihood:', current_model.lnL)\n",
    "    if current_model.lnL > best_lnl:\n",
    "        best_lnl = current_model.lnL\n",
    "        best_model = current_model"
   ]
  },
  {
   "cell_type": "code",
   "execution_count": 10,
   "id": "93aa427d",
   "metadata": {},
   "outputs": [
    {
     "name": "stdout",
     "output_type": "stream",
     "text": [
      " Evolutionary Model M2:\n",
      "        log likelihood       : -517.824749\n",
      "        number of parameters : 11\n",
      "        sites inference      : BEB, NEB\n",
      "        sites classes        : \n",
      "        proportions : p0=0.98794   p1=0.0       p2=0.01206   \n",
      "        w           : w0=0.09887   w1=1.0       w2=178.86135 \n",
      "        branches             : \n",
      "        mark:     , omega: None      , node_ids: 5   , name: ROOT\n",
      "        mark:     , omega: 2.2553    , node_ids: 6   , name: EDGE\n",
      "        mark:     , omega: 2.2553    , node_ids: 4   , name: Papio_cynocephalus\n",
      "        mark:     , omega: 2.2553    , node_ids: 2   , name: Hylobates_lar\n",
      "        mark:     , omega: 2.2553    , node_ids: 7   , name: EDGE\n",
      "        mark:     , omega: 2.2553    , node_ids: 1   , name: Gorilla_gorilla\n",
      "        mark:     , omega: 2.2553    , node_ids: 3   , name: Pan_troglodytes\n",
      "        \n",
      "M2 model wins.\n",
      "positively selected site P at position: 81, with probability: 0.96293\n"
     ]
    }
   ],
   "source": [
    "tree.run_model('M1')\n",
    "tree.run_model('M2')\n",
    "\n",
    "pval = tree.get_most_likely('M2','M1')\n",
    "\n",
    "model2 = tree.get_evol_model('M2')\n",
    "\n",
    "print(model2)\n",
    "\n",
    "# Evolutionary Model M2:\n",
    "#        log likelihood       : -517.824749\n",
    "#        number of parameters : 11\n",
    "#        sites inference      : BEB, NEB\n",
    "#        sites classes        :\n",
    "#           proportions: p0=0.98794   p1=0.00000   p2=0.01206\n",
    "#           w          : w0=0.09887   w1=1.00000   w2=178.86153\n",
    "#        branches             :\n",
    "#           mark: #0, omega: 2.25526440485   , nodes paml_ids: 6 4 2 7 1 3\n",
    "\n",
    "if pval < 0.05:\n",
    "    print('M2 model wins.')\n",
    "    for s in range(len(model2.sites['BEB']['aa'])):\n",
    "        if model2.sites['BEB']['p2'][s] > 0.95:\n",
    "            print('positively selected site %s at position: %s, with probability: %s' % (model2.sites['BEB']['aa'][s], s+1, model2.sites['BEB']['p2'][s]))\n",
    "else:\n",
    "    print('M1 model is not rejected')\n",
    "\n",
    "# M2 model wins.\n",
    "# positively selected site P at position: 81, with probability: 0.96293"
   ]
  },
  {
   "cell_type": "code",
   "execution_count": 14,
   "id": "04e59545",
   "metadata": {},
   "outputs": [
    {
     "name": "stdout",
     "output_type": "stream",
     "text": [
      "\n",
      "---------\n",
      "Now working with leaf Hylobates_lar\n",
      "((Hylobates_lar #1,(Gorilla_gorilla,Pan_troglodytes)),Papio_cynocephalus);\n",
      "running model bsA and bsA1\n",
      "p-value of positive selection for sites on this branch is:\n",
      "0.9327919343756689\n",
      "p-value of relaxation for sites on this branch is:\n",
      "0.010403125387005385\n",
      "we have relaxation on sites on this branch\n",
      "\n",
      "clean tree, remove marks\n",
      "\n",
      "---------\n",
      "Now working with leaf Gorilla_gorilla\n",
      "((Hylobates_lar ,(Gorilla_gorilla #1,Pan_troglodytes ) ) ,Papio_cynocephalus );\n",
      "running model bsA and bsA1\n"
     ]
    },
    {
     "name": "stderr",
     "output_type": "stream",
     "text": [
      "/Users/jra/miniconda3/envs/ete3/lib/python3.6/site-packages/ete3/evol/evoltree.py:417: UserWarning: WARNING: marks should be \"#\" sign directly followed by integer\n",
      "\n",
      "        function to mark branches on tree in order that paml could interpret it.\n",
      "        takes a \"marks\" argument that should be a list of #1,#1,#2\n",
      "        e.g.:\n",
      "        ::\n",
      "\n",
      "          t=Tree.mark_tree([2,3], marks=[\"#1\",\"#2\"])\n",
      "\n",
      "        :argument node_ids: list of node ids (have a look to node.node_id)\n",
      "        :argument False verbose: warn if marks do not correspond to codeml standard\n",
      "        :argument kargs: mainly for the marks key-word which needs a list of marks (marks=['#1', '#2'])\n",
      "\n",
      "        \n",
      "  'followed by integer\\n' + self.mark_tree.__doc__)\n"
     ]
    },
    {
     "name": "stdout",
     "output_type": "stream",
     "text": [
      "p-value of positive selection for sites on this branch is:\n",
      "1\n",
      "p-value of relaxation for sites on this branch is:\n",
      "0.014542934568084975\n",
      "we have relaxation on sites on this branch\n",
      "\n",
      "clean tree, remove marks\n",
      "\n",
      "---------\n",
      "Now working with leaf Pan_troglodytes\n",
      "((Hylobates_lar ,(Gorilla_gorilla ,Pan_troglodytes #1) ) ,Papio_cynocephalus );\n",
      "running model bsA and bsA1\n"
     ]
    },
    {
     "name": "stderr",
     "output_type": "stream",
     "text": [
      "/Users/jra/miniconda3/envs/ete3/lib/python3.6/site-packages/ete3/evol/evoltree.py:540: UserWarning: \n",
      "WARNING: Likelihood of the alternative model is smaller than null's (-521.541845 - -521.541845 = 0.000000)\n",
      "Large differences (> 0.1) may indicate mistaken assigantion of null and alternative models\n",
      "  \"\\nLarge differences (> 0.1) may indicate mistaken \"\n"
     ]
    },
    {
     "name": "stdout",
     "output_type": "stream",
     "text": [
      "p-value of positive selection for sites on this branch is:\n",
      "1\n",
      "p-value of relaxation for sites on this branch is:\n",
      "0.001295136738279079\n",
      "we have relaxation on sites on this branch\n",
      "\n",
      "clean tree, remove marks\n",
      "\n",
      "---------\n",
      "Now working with leaf Papio_cynocephalus\n",
      "((Hylobates_lar ,(Gorilla_gorilla ,Pan_troglodytes ) ) ,Papio_cynocephalus #1);\n",
      "running model bsA and bsA1\n"
     ]
    },
    {
     "name": "stderr",
     "output_type": "stream",
     "text": [
      "/Users/jra/miniconda3/envs/ete3/lib/python3.6/site-packages/ete3/evol/evoltree.py:540: UserWarning: \n",
      "WARNING: Likelihood of the alternative model is smaller than null's (-519.123356 - -519.123356 = 0.000000)\n",
      "Large differences (> 0.1) may indicate mistaken assigantion of null and alternative models\n",
      "  \"\\nLarge differences (> 0.1) may indicate mistaken \"\n"
     ]
    },
    {
     "name": "stdout",
     "output_type": "stream",
     "text": [
      "p-value of positive selection for sites on this branch is:\n",
      "0.7498870274777537\n",
      "p-value of relaxation for sites on this branch is:\n",
      "0.013438319350932315\n",
      "we have relaxation on sites on this branch\n",
      "\n",
      "clean tree, remove marks\n",
      " Evolutionary Model bsA.Hylobates_lar:\n",
      "        log likelihood       : -521.20329\n",
      "        number of parameters : 11\n",
      "        sites inference      : BEB, NEB\n",
      "        sites classes        : \n",
      "        background w: b0=0.06451   b1=1.0       b2=0.06451   b3=1.0       \n",
      "        foreground w: f0=0.06451   f1=1.0       f2=3.16388   f3=3.16388   \n",
      "        proportions : p0=0.0       p1=0.0       p2=0.94828   p3=0.05172   \n",
      "        site class  :  \n",
      "        branches             : \n",
      "        mark: #0  , omega: None      , node_ids: 5   , name: ROOT\n",
      "        mark: #0  , omega: None      , node_ids: 6   , name: EDGE\n",
      "        mark: #0  , omega: None      , node_ids: 4   , name: Papio_cynocephalus\n",
      "        mark: #1  , omega: None      , node_ids: 2   , name: Hylobates_lar\n",
      "        mark: #0  , omega: None      , node_ids: 7   , name: EDGE\n",
      "        mark: #0  , omega: None      , node_ids: 1   , name: Gorilla_gorilla\n",
      "        mark: #0  , omega: None      , node_ids: 3   , name: Pan_troglodytes\n",
      "        \n"
     ]
    }
   ],
   "source": [
    "tree.run_model('M0')\n",
    "\n",
    "for leaf in tree:\n",
    "    leaf.node_id\n",
    "    print('\\n---------\\nNow working with leaf ' + leaf.name)\n",
    "    tree.mark_tree([leaf.node_id], marks=['#1'])\n",
    "    print(tree.write())\n",
    "    # To organize a bit, we name the model with the name of the marked node\n",
    "    # Any character after the dot, in the model name, is not taken into account\n",
    "    # for computation. (have a look in /tmp/ete3.../bsA.. directory)\n",
    "    print('running model bsA and bsA1')\n",
    "    tree.run_model('bsA.' + leaf.name)\n",
    "    tree.run_model('bsA1.' + leaf.name)\n",
    "    print('p-value of positive selection for sites on this branch is:')\n",
    "    ps = tree.get_most_likely('bsA.' + leaf.name, 'bsA1.' + leaf.name)\n",
    "    rx = tree.get_most_likely('bsA1.' + leaf.name, 'M0')\n",
    "    print(str(ps))\n",
    "    print('p-value of relaxation for sites on this branch is:')\n",
    "    print(str(rx))\n",
    "    if ps < 0.05 and float(bsA.wfrg2a) > 1:\n",
    "        print('we have positive selection on sites on this branch')\n",
    "    elif rx < 0.05 and ps >= 0.05:\n",
    "        print('we have relaxation on sites on this branch')\n",
    "    else:\n",
    "        print('no signal detected on this branch, best fit for M0')\n",
    "    print('\\nclean tree, remove marks')\n",
    "    tree.mark_tree(list(map(lambda x: x.node_id, tree.get_descendants())),\n",
    "                    marks=[''] * len(tree.get_descendants()), verbose=True)\n",
    "\n",
    "print(tree.get_evol_model('bsA.Hylobates_lar'))\n"
   ]
  }
 ],
 "metadata": {
  "kernelspec": {
   "display_name": "Python 3",
   "language": "python",
   "name": "python3"
  },
  "language_info": {
   "codemirror_mode": {
    "name": "ipython",
    "version": 3
   },
   "file_extension": ".py",
   "mimetype": "text/x-python",
   "name": "python",
   "nbconvert_exporter": "python",
   "pygments_lexer": "ipython3",
   "version": "3.6.13"
  }
 },
 "nbformat": 4,
 "nbformat_minor": 5
}
