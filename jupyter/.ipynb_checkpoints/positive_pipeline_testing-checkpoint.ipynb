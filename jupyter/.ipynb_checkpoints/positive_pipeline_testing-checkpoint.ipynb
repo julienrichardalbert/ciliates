{
 "cells": [
  {
   "cell_type": "code",
   "execution_count": 43,
   "id": "366435e7",
   "metadata": {},
   "outputs": [
    {
     "name": "stdout",
     "output_type": "stream",
     "text": [
      "\n",
      "         /-9483.NC_071455_1_cds_XP_035129477_1_61684\n",
      "      /-|\n",
      "     |   \\-9606.NC_000002_12_cds_NP_001800_1_13667\n",
      "   /-|\n",
      "  |  |   /-9986.NC_067375_1_cds_XP_002710015_1_7529\n",
      "  |  |  |\n",
      "  |   \\-|   /-10020.NW_012267236_1_cds_XP_012869061_1_7830\n",
      "  |     |  |\n",
      "  |      \\-|      /-13616.NC_077227_1_cds_XP_007476018_1_10124\n",
      "  |        |   /-|\n",
      "--|        |  |  |   /-9615.NC_049222_1_cds_XP_038381864_1_247\n",
      "  |         \\-|   \\-|\n",
      "  |           |      \\-10141.NT_176401_1_cds_XP_013011158_1_23551\n",
      "  |           |\n",
      "  |            \\-10090.NC_000071_7_cds_XP_011239001_1_25381\n",
      "  |\n",
      "  |--9739.NC_047047_1_cds_XP_019798802_1_38518\n",
      "  |\n",
      "   \\-9361.NC_080697_1_cds_XP_012378002_2_48569\n"
     ]
    }
   ],
   "source": [
    "from ete3 import EvolTree\n",
    "from ete3.treeview.layouts import evol_clean_layout\n",
    "import matplotlib.pyplot as plt\n",
    "from ete3 import Tree, NCBITaxa\n",
    "\n",
    "\n",
    "path = '/Users/jra/Dropbox/ciliates/positive_control_pipeline/'\n",
    "input_newick = path + 'human_Cenpa_protein.fa.tblastn.fa.longestIso.blast.annotation.centromeric.fa.aligned.nwk'\n",
    "input_alignment = path + 'human_Cenpa_protein.fa.tblastn.fa.longestIso.blast.annotation.centromeric.fa.aligned.trimal2'\n",
    "\n",
    "# WHEN INPUTTING ALIGNMENT, ETE3 TRANSLATES THE CDS TO PROTEIN.\n",
    "# ENSURE IT IS USING THE CORRECT CODON CODE: CILIATES ENCODE GLU INSTEAD OF STOP FOR 2 CODONS\n",
    "tree = EvolTree(newick = input_newick, format=1)\n",
    "tree.link_to_alignment(input_alignment)     \n",
    "\n",
    "print(tree)"
   ]
  },
  {
   "cell_type": "code",
   "execution_count": 51,
   "id": "a4e2552c",
   "metadata": {},
   "outputs": [],
   "source": [
    "tree.run_model('M2.example')"
   ]
  },
  {
   "cell_type": "code",
   "execution_count": 3,
   "id": "58544d57",
   "metadata": {},
   "outputs": [
    {
     "name": "stdout",
     "output_type": "stream",
     "text": [
      " Evolutionary Model M2.example:\n",
      "        log likelihood       : -2224.273104\n",
      "        number of parameters : 22\n",
      "        sites inference      : BEB, NEB\n",
      "        sites classes        : \n",
      "        proportions : p0=0.49894   p1=0.4843    p2=0.01676   \n",
      "        w           : w0=0.12898   w1=1.0       w2=38.75021  \n",
      "        branches             : \n",
      "        mark:     , omega: None      , node_ids: 11  , name: Inner8\n",
      "        mark:     , omega: 1.1979    , node_ids: 12  , name: Inner7\n",
      "        mark:     , omega: 1.1979    , node_ids: 9   , name: 9739.NC_047047_1_cds_XP_019798802_1_38518\n",
      "        mark:     , omega: 1.1979    , node_ids: 5   , name: 9361.NC_080697_1_cds_XP_012378002_2_48569\n",
      "        mark:     , omega: 1.1979    , node_ids: 13  , name: Inner4\n",
      "        mark:     , omega: 1.1979    , node_ids: 14  , name: Inner6\n",
      "        mark:     , omega: 1.1979    , node_ids: 6   , name: 9483.NC_071455_1_cds_XP_035129477_1_61684\n",
      "        mark:     , omega: 1.1979    , node_ids: 7   , name: 9606.NC_000002_12_cds_NP_001800_1_13667\n",
      "        mark:     , omega: 1.1979    , node_ids: 10  , name: 9986.NC_067375_1_cds_XP_002710015_1_7529\n",
      "        mark:     , omega: 1.1979    , node_ids: 15  , name: Inner5\n",
      "        mark:     , omega: 1.1979    , node_ids: 1   , name: 10020.NW_012267236_1_cds_XP_012869061_1_7830\n",
      "        mark:     , omega: 1.1979    , node_ids: 16  , name: Inner3\n",
      "        mark:     , omega: 1.1979    , node_ids: 17  , name: Inner2\n",
      "        mark:     , omega: 1.1979    , node_ids: 2   , name: 10090.NC_000071_7_cds_XP_011239001_1_25381\n",
      "        mark:     , omega: 1.1979    , node_ids: 4   , name: 13616.NC_077227_1_cds_XP_007476018_1_10124\n",
      "        mark:     , omega: 1.1979    , node_ids: 18  , name: Inner1\n",
      "        mark:     , omega: 1.1979    , node_ids: 8   , name: 9615.NC_049222_1_cds_XP_038381864_1_247\n",
      "        mark:     , omega: 1.1979    , node_ids: 3   , name: 10141.NT_176401_1_cds_XP_013011158_1_23551\n",
      "        \n"
     ]
    }
   ],
   "source": [
    "my_first_fb_model = tree.get_evol_model('M2.example')\n",
    "\n",
    "print(my_first_fb_model)"
   ]
  },
  {
   "cell_type": "code",
   "execution_count": 36,
   "id": "451507d3",
   "metadata": {},
   "outputs": [],
   "source": [
    "from ete3.treeview.layouts import evol_clean_layout\n",
    "\n",
    "tree.show(layout=evol_clean_layout)"
   ]
  },
  {
   "cell_type": "code",
   "execution_count": 3,
   "id": "58f251ca",
   "metadata": {},
   "outputs": [
    {
     "name": "stdout",
     "output_type": "stream",
     "text": [
      "3.3741635783401946e-05\n"
     ]
    }
   ],
   "source": [
    "tree.run_model('M7')\n",
    "tree.run_model('M8')\n",
    "pval = tree.get_most_likely('M8','M7')\n",
    "print(pval)"
   ]
  },
  {
   "cell_type": "code",
   "execution_count": 4,
   "id": "a27513eb",
   "metadata": {},
   "outputs": [
    {
     "name": "stdout",
     "output_type": "stream",
     "text": [
      "4.449093933378556e-05\n"
     ]
    }
   ],
   "source": [
    "tree.run_model('M2')\n",
    "tree.run_model('M1')\n",
    "pval = tree.get_most_likely('M2','M1')\n",
    "print(pval)"
   ]
  },
  {
   "cell_type": "code",
   "execution_count": 57,
   "id": "304767a9",
   "metadata": {},
   "outputs": [
    {
     "name": "stdout",
     "output_type": "stream",
     "text": [
      " Evolutionary Model M2:\n",
      "        log likelihood       : -2224.273104\n",
      "        number of parameters : 22\n",
      "        sites inference      : BEB, NEB\n",
      "        sites classes        : \n",
      "        proportions : p0=0.49894   p1=0.4843    p2=0.01676   \n",
      "        w           : w0=0.12898   w1=1.0       w2=38.75021  \n",
      "        branches             : \n",
      "        mark:     , omega: None      , node_ids: 11  , name: Inner8\n",
      "        mark:     , omega: 1.1979    , node_ids: 12  , name: Inner7\n",
      "        mark:     , omega: 1.1979    , node_ids: 9   , name: 9739.NC_047047_1_cds_XP_019798802_1_38518\n",
      "        mark:     , omega: 1.1979    , node_ids: 5   , name: 9361.NC_080697_1_cds_XP_012378002_2_48569\n",
      "        mark:     , omega: 1.1979    , node_ids: 13  , name: Inner4\n",
      "        mark:     , omega: 1.1979    , node_ids: 14  , name: Inner6\n",
      "        mark:     , omega: 1.1979    , node_ids: 6   , name: 9483.NC_071455_1_cds_XP_035129477_1_61684\n",
      "        mark:     , omega: 1.1979    , node_ids: 7   , name: 9606.NC_000002_12_cds_NP_001800_1_13667\n",
      "        mark:     , omega: 1.1979    , node_ids: 10  , name: 9986.NC_067375_1_cds_XP_002710015_1_7529\n",
      "        mark:     , omega: 1.1979    , node_ids: 15  , name: Inner5\n",
      "        mark:     , omega: 1.1979    , node_ids: 1   , name: 10020.NW_012267236_1_cds_XP_012869061_1_7830\n",
      "        mark:     , omega: 1.1979    , node_ids: 16  , name: Inner3\n",
      "        mark:     , omega: 1.1979    , node_ids: 17  , name: Inner2\n",
      "        mark:     , omega: 1.1979    , node_ids: 2   , name: 10090.NC_000071_7_cds_XP_011239001_1_25381\n",
      "        mark:     , omega: 1.1979    , node_ids: 4   , name: 13616.NC_077227_1_cds_XP_007476018_1_10124\n",
      "        mark:     , omega: 1.1979    , node_ids: 18  , name: Inner1\n",
      "        mark:     , omega: 1.1979    , node_ids: 8   , name: 9615.NC_049222_1_cds_XP_038381864_1_247\n",
      "        mark:     , omega: 1.1979    , node_ids: 3   , name: 10141.NT_176401_1_cds_XP_013011158_1_23551\n",
      "        \n",
      "M2 model wins.\n",
      "positively selected site A at position: 47, with probability: 0.9997\n",
      "positively selected site S at position: 58, with probability: 0.98624\n"
     ]
    }
   ],
   "source": [
    "tree.run_model('M1')\n",
    "tree.run_model('M2')\n",
    "\n",
    "pval = tree.get_most_likely('M2','M1')\n",
    "\n",
    "model2 = tree.get_evol_model('M2')\n",
    "\n",
    "print(model2)\n",
    "\n",
    "# Evolutionary Model M2:\n",
    "#        log likelihood       : -517.824749\n",
    "#        number of parameters : 11\n",
    "#        sites inference      : BEB, NEB\n",
    "#        sites classes        :\n",
    "#           proportions: p0=0.98794   p1=0.00000   p2=0.01206\n",
    "#           w          : w0=0.09887   w1=1.00000   w2=178.86153\n",
    "#        branches             :\n",
    "#           mark: #0, omega: 2.25526440485   , nodes paml_ids: 6 4 2 7 1 3\n",
    "\n",
    "if pval < 0.05:\n",
    "    print('M2 model wins.')\n",
    "    for s in range(len(model2.sites['BEB']['aa'])):\n",
    "        if model2.sites['BEB']['p2'][s] > 0.95:\n",
    "            print('positively selected site %s at position: %s, with probability: %s' % (model2.sites['BEB']['aa'][s], s+1, model2.sites['BEB']['p2'][s]))\n",
    "else:\n",
    "    print('M1 model is not rejected')\n",
    "\n",
    "# M2 model wins.\n",
    "# positively selected site P at position: 81, with probability: 0.96293"
   ]
  },
  {
   "cell_type": "code",
   "execution_count": 59,
   "id": "732be6f0",
   "metadata": {},
   "outputs": [],
   "source": [
    "tree.render(path + \"tree.pdf\", histfaces=['M2'])\n",
    "tree.show(histfaces=['M2'])"
   ]
  },
  {
   "cell_type": "code",
   "execution_count": 62,
   "id": "e0a92f0a",
   "metadata": {},
   "outputs": [
    {
     "name": "stdout",
     "output_type": "stream",
     "text": [
      "9483.NC_071455_1_cds_XP_035129477_1_61684: dS = 0.0410\n",
      "9606.NC_000002_12_cds_NP_001800_1_13667: dS = 0.0141\n",
      "9986.NC_067375_1_cds_XP_002710015_1_7529: dS = 0.2172\n",
      "10020.NW_012267236_1_cds_XP_012869061_1_7830: dS = 0.1578\n",
      "13616.NC_077227_1_cds_XP_007476018_1_10124: dS = 0.6038\n",
      "9615.NC_049222_1_cds_XP_038381864_1_247: dS = 1.4634\n",
      "10141.NT_176401_1_cds_XP_013011158_1_23551: dS = 0.6519\n",
      "10090.NC_000071_7_cds_XP_011239001_1_25381: dS = 0.3603\n",
      "9739.NC_047047_1_cds_XP_019798802_1_38518: dS = 0.0932\n",
      "9361.NC_080697_1_cds_XP_012378002_2_48569: dS = 0.1719\n",
      "Ds values have been written to /Users/jra/Dropbox/ciliates/positive_control_pipeline/dS_values_lca.txt\n"
     ]
    },
    {
     "name": "stderr",
     "output_type": "stream",
     "text": [
      "/Users/jra/miniconda3/envs/ete3/lib/python3.6/site-packages/ipykernel_launcher.py:38: UserWarning: Matplotlib is currently using agg, which is a non-GUI backend, so cannot show the figure.\n"
     ]
    },
    {
     "data": {
      "image/png": "[encoded data removed]",
      "text/plain": [
       "<Figure size 720x432 with 1 Axes>"
      ]
     },
     "metadata": {
      "needs_background": "light"
     },
     "output_type": "display_data"
    }
   ],
   "source": [
    "# get precomputed dS values used to make the tree. \n",
    "# these values correspond  to the  silent substitution rate of each species compared to the last common ancestor.\n",
    "# whether the LCA corresponds to the ancestor of all leafs, or LCA with the closest adjacent leaf, is not explained well\n",
    "output_file = path + \"dS_values_lca.txt\"\n",
    "dS_values = {}\n",
    "\n",
    "for leaf in tree:\n",
    "    if leaf.is_leaf():\n",
    "        dS = leaf.dS\n",
    "        dS_values[leaf.name] = dS\n",
    "\n",
    "with open(output_file, \"w\") as f:\n",
    "    for leaf_name, dS in dS_values.items():\n",
    "        print(f\"{leaf_name}: dS = {dS:.4f}\")\n",
    "        f.write(f\"{leaf_name}: dS = {dS:.4f}\\n\")\n",
    "    print(f\"Ds values have been written to {output_file}\")\n",
    "\n",
    "# Create a bar chart\n",
    "leaf_names = list(dS_values.keys())\n",
    "species_names = [leaf.split(':')[0] for leaf in leaf_names]\n",
    "dS_values_list = list(dS_values.values())\n",
    "\n",
    "fig, ax = plt.subplots(figsize=(10, 6))\n",
    "ax.barh(species_names, dS_values_list, color='black')\n",
    "ax.set_xlabel('dS Values')\n",
    "ax.set_title('dS Values from LCA')\n",
    "\n",
    "# Set x-axis limit to 1.1 if dS values are less than 1.1\n",
    "max_dS = max(dS_values_list)\n",
    "if max_dS < 1.1:\n",
    "    ax.set_xlim(0, 1.1)\n",
    "\n",
    "# Add a red dotted line at x=1\n",
    "ax.axvline(x=1, color='red', linestyle='--')\n",
    "\n",
    "# Save the plot\n",
    "plt.savefig(path + \"dS_values_lca_bar_chart.pdf\")\n",
    "plt.show()"
   ]
  },
  {
   "cell_type": "code",
   "execution_count": 63,
   "id": "6a7ab683",
   "metadata": {
    "scrolled": true
   },
   "outputs": [
    {
     "name": "stdout",
     "output_type": "stream",
     "text": [
      "9483.NC_071455_1_cds_XP_035129477_1_61684: Species = Callithrix jacchus, dS = 0.1120\n",
      "9606.NC_000002_12_cds_NP_001800_1_13667: Species = Homo sapiens, dS = 0.0000\n",
      "9986.NC_067375_1_cds_XP_002710015_1_7529: Species = Oryctolagus cuniculus, dS = 0.6320\n",
      "10020.NW_012267236_1_cds_XP_012869061_1_7830: Species = Dipodomys ordii, dS = 0.6250\n",
      "13616.NC_077227_1_cds_XP_007476018_1_10124: Species = Monodelphis domestica, dS = 1.6800\n",
      "9615.NC_049222_1_cds_XP_038381864_1_247: Species = Canis lupus familiaris, dS = 3.4510\n",
      "10141.NT_176401_1_cds_XP_013011158_1_23551: Species = Cavia porcellus, dS = 1.8020\n",
      "10090.NC_000071_7_cds_XP_011239001_1_25381: Species = Mus musculus, dS = 1.1850\n",
      "9739.NC_047047_1_cds_XP_019798802_1_38518: Species = Tursiops truncatus, dS = 0.3990\n",
      "9361.NC_080697_1_cds_XP_012378002_2_48569: Species = Dasypus novemcinctus, dS = 0.5590\n",
      "Ds values have been written to /Users/jra/Dropbox/ciliates/positive_control_pipeline/dS_values_ref.txt\n"
     ]
    },
    {
     "name": "stderr",
     "output_type": "stream",
     "text": [
      "/Users/jra/miniconda3/envs/ete3/lib/python3.6/site-packages/ipykernel_launcher.py:62: UserWarning: Matplotlib is currently using agg, which is a non-GUI backend, so cannot show the figure.\n"
     ]
    },
    {
     "data": {
      "image/png": "[encoded data removed]",
      "text/plain": [
       "<Figure size 720x432 with 1 Axes>"
      ]
     },
     "metadata": {
      "needs_background": "light"
     },
     "output_type": "display_data"
    }
   ],
   "source": [
    "partial_leaf_name = \"9606\"\n",
    "output_file = path + \"dS_values_ref.txt\"\n",
    "\n",
    "# Initialize variables to store the reference leaf and its full name\n",
    "reference_leaf = None\n",
    "reference_leaf_name = None\n",
    "\n",
    "# Search for the leaf with a name that starts with the specified partial name\n",
    "for leaf in tree:\n",
    "    if leaf.name.startswith(partial_leaf_name):\n",
    "        reference_leaf = leaf\n",
    "        reference_leaf_name = leaf.name\n",
    "\n",
    "\n",
    "# Initialize the NCBI Taxonomy database\n",
    "ncbi = NCBITaxa()\n",
    "\n",
    "\n",
    "if reference_leaf:\n",
    "    # Calculate dS values for leaves relative to the reference leaf\n",
    "    dS_values = {}\n",
    "\n",
    "    for leaf in tree:\n",
    "        # Extract TaxID from the leaf name\n",
    "        taxid = int(leaf.name.split('.')[0])\n",
    "\n",
    "        # Get the scientific name associated with the TaxID\n",
    "        species_name = ncbi.get_taxid_translator([taxid]).get(taxid, leaf.name)\n",
    "\n",
    "        # Calculate the dS value for the leaf relative to the reference leaf\n",
    "        dS = reference_leaf.get_distance(leaf)\n",
    "        dS_values[leaf.name] = {'Species': species_name, 'dS': dS}\n",
    "\n",
    "    with open(output_file, \"w\") as f:   \n",
    "        for leaf_name, data in dS_values.items():\n",
    "            print(f\"{leaf_name}: Species = {data['Species']}, dS = {data['dS']:.4f}\")\n",
    "            f.write(f\"{leaf_name}: Species = {data['Species']}, dS = {data['dS']:.4f}\\n\")\n",
    "        print(f\"Ds values have been written to {output_file}\")\n",
    "\n",
    "        \n",
    "        \n",
    "    # Create a bar chart\n",
    "    leaf_names = list(dS_values.keys())\n",
    "    species_names = [data['Species'] for data in dS_values.values()]\n",
    "    dS_values_list = [data['dS'] for data in dS_values.values()]\n",
    "\n",
    "    fig, ax = plt.subplots(figsize=(10, 6))\n",
    "    ax.barh(species_names, dS_values_list, color='black')\n",
    "    ax.set_xlabel('dS Values')\n",
    "    ax.set_title('dS Values relative to reference leaf: ' + partial_leaf_name)\n",
    "\n",
    "    # Set x-axis limit to 1.1 if dS values are less than 1.1\n",
    "    max_dS = max(dS_values_list)\n",
    "    if max_dS < 1.1:\n",
    "        ax.set_xlim(0, 1.1)\n",
    "\n",
    "    # Add a red dotted line at x=1\n",
    "    ax.axvline(x=1, color='red', linestyle='--')\n",
    "\n",
    "    # Save the plot\n",
    "    plt.savefig(path + \"ref_dS_values_bar_chart.pdf\")\n",
    "    plt.show()\n",
    "    \n",
    "    \n",
    "    \n",
    "else:\n",
    "    print(f\"No leaf found in the tree with a name starting with '{partial_leaf_name}'.\")"
   ]
  },
  {
   "cell_type": "code",
   "execution_count": 49,
   "id": "7dae0ed8",
   "metadata": {},
   "outputs": [
    {
     "name": "stdout",
     "output_type": "stream",
     "text": [
      "ete3==3.1.3\n"
     ]
    }
   ],
   "source": [
    "import pkg_resources\n",
    "import types\n",
    "\n",
    "def get_imports():\n",
    "    for name, val in globals().items():\n",
    "        if isinstance(val, types.ModuleType):\n",
    "            # Split ensures you get root package, \n",
    "            # not just imported function\n",
    "            name = val.__name__.split(\".\")[0]\n",
    "\n",
    "        elif isinstance(val, type):\n",
    "            name = val.__module__.split(\".\")[0]\n",
    "\n",
    "        # Some packages are weird and have different\n",
    "        # imported names vs. system/pip names. Unfortunately,\n",
    "        # there is no systematic way to get pip names from\n",
    "        # a package's imported name. You'll have to add\n",
    "        # exceptions to this list manually!\n",
    "        poorly_named_packages = {\n",
    "            \"PIL\": \"Pillow\",\n",
    "            \"sklearn\": \"scikit-learn\"\n",
    "        }\n",
    "        if name in poorly_named_packages.keys():\n",
    "            name = poorly_named_packages[name]\n",
    "\n",
    "        yield name\n",
    "\n",
    "imports = list(set(get_imports()))\n",
    "\n",
    "# The only way I found to get the version of the root package\n",
    "# from only the name of the package is to cross-check the names \n",
    "# of installed packages vs. imported packages\n",
    "requirements = []\n",
    "for m in pkg_resources.working_set:\n",
    "    if m.project_name in imports and m.project_name!=\"pip\":\n",
    "        requirements.append((m.project_name, m.version))\n",
    "\n",
    "for r in requirements:\n",
    "    print(\"{}=={}\".format(*r))"
   ]
  }
 ],
 "metadata": {
  "kernelspec": {
   "display_name": "Python 3",
   "language": "python",
   "name": "python3"
  },
  "language_info": {
   "codemirror_mode": {
    "name": "ipython",
    "version": 3
   },
   "file_extension": ".py",
   "mimetype": "text/x-python",
   "name": "python",
   "nbconvert_exporter": "python",
   "pygments_lexer": "ipython3",
   "version": "3.6.13"
  }
 },
 "nbformat": 4,
 "nbformat_minor": 5
}
