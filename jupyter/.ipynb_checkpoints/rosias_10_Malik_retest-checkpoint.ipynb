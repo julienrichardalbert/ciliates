{
 "cells": [
  {
   "cell_type": "code",
   "execution_count": 18,
   "id": "366435e7",
   "metadata": {},
   "outputs": [
    {
     "name": "stdout",
     "output_type": "stream",
     "text": [
      "/Users/jra/Dropbox/ciliates/old/Elde_Malik_2011/supplemental_sequences/rosias/testing_ete3trosias_cenH3_10_renamed.fa.simplified.nwk\n"
     ]
    },
    {
     "ename": "NewickError",
     "evalue": "Unexisting tree file or Malformed newick tree structure.\nYou may want to check other newick loading flags like 'format' or 'quoted_node_names'.",
     "output_type": "error",
     "traceback": [
      "\u001b[0;31m-------------------------------------------------------------------------\u001b[0m",
      "\u001b[0;31mNewickError\u001b[0m                             Traceback (most recent call last)",
      "\u001b[0;32m<ipython-input-18-b726ddedee6e>\u001b[0m in \u001b[0;36m<module>\u001b[0;34m\u001b[0m\n\u001b[1;32m     17\u001b[0m \u001b[0mprint\u001b[0m\u001b[0;34m(\u001b[0m\u001b[0minput_newick\u001b[0m\u001b[0;34m)\u001b[0m\u001b[0;34m\u001b[0m\u001b[0;34m\u001b[0m\u001b[0m\n\u001b[1;32m     18\u001b[0m \u001b[0;34m\u001b[0m\u001b[0m\n\u001b[0;32m---> 19\u001b[0;31m \u001b[0mtree\u001b[0m \u001b[0;34m=\u001b[0m \u001b[0mEvolTree\u001b[0m\u001b[0;34m(\u001b[0m\u001b[0mnewick\u001b[0m \u001b[0;34m=\u001b[0m \u001b[0minput_newick\u001b[0m\u001b[0;34m,\u001b[0m \u001b[0mformat\u001b[0m\u001b[0;34m=\u001b[0m\u001b[0;36m1\u001b[0m\u001b[0;34m)\u001b[0m\u001b[0;34m\u001b[0m\u001b[0;34m\u001b[0m\u001b[0m\n\u001b[0m\u001b[1;32m     20\u001b[0m \u001b[0mtree\u001b[0m\u001b[0;34m.\u001b[0m\u001b[0mlink_to_alignment\u001b[0m\u001b[0;34m(\u001b[0m\u001b[0minput_alignment\u001b[0m\u001b[0;34m)\u001b[0m\u001b[0;34m\u001b[0m\u001b[0;34m\u001b[0m\u001b[0m\n\u001b[1;32m     21\u001b[0m \u001b[0;34m\u001b[0m\u001b[0m\n",
      "\u001b[0;32m~/miniconda3/envs/ete3/lib/python3.6/site-packages/ete3/evol/evoltree.py\u001b[0m in \u001b[0;36m__init__\u001b[0;34m(self, newick, alignment, alg_format, sp_naming_function, format, binpath, **kwargs)\u001b[0m\n\u001b[1;32m    134\u001b[0m \u001b[0;34m\u001b[0m\u001b[0m\n\u001b[1;32m    135\u001b[0m         PhyloNode.__init__(self, newick=newick, format=format,\n\u001b[0;32m--> 136\u001b[0;31m                            sp_naming_function=sp_naming_function, **kwargs)\n\u001b[0m\u001b[1;32m    137\u001b[0m \u001b[0;34m\u001b[0m\u001b[0m\n\u001b[1;32m    138\u001b[0m         \u001b[0;32mif\u001b[0m \u001b[0mnewick\u001b[0m\u001b[0;34m:\u001b[0m\u001b[0;34m\u001b[0m\u001b[0;34m\u001b[0m\u001b[0m\n",
      "\u001b[0;32m~/miniconda3/envs/ete3/lib/python3.6/site-packages/ete3/phylo/phylotree.py\u001b[0m in \u001b[0;36m__init__\u001b[0;34m(self, newick, alignment, alg_format, sp_naming_function, format, **kargs)\u001b[0m\n\u001b[1;32m    389\u001b[0m         \u001b[0;31m# Caution! native __init__ has to be called after setting\u001b[0m\u001b[0;34m\u001b[0m\u001b[0;34m\u001b[0m\u001b[0;34m\u001b[0m\u001b[0m\n\u001b[1;32m    390\u001b[0m         \u001b[0;31m# _speciesFunction to None!!\u001b[0m\u001b[0;34m\u001b[0m\u001b[0;34m\u001b[0m\u001b[0;34m\u001b[0m\u001b[0m\n\u001b[0;32m--> 391\u001b[0;31m         \u001b[0mTreeNode\u001b[0m\u001b[0;34m.\u001b[0m\u001b[0m__init__\u001b[0m\u001b[0;34m(\u001b[0m\u001b[0mself\u001b[0m\u001b[0;34m,\u001b[0m \u001b[0mnewick\u001b[0m\u001b[0;34m=\u001b[0m\u001b[0mnewick\u001b[0m\u001b[0;34m,\u001b[0m \u001b[0mformat\u001b[0m\u001b[0;34m=\u001b[0m\u001b[0mformat\u001b[0m\u001b[0;34m,\u001b[0m \u001b[0;34m**\u001b[0m\u001b[0mkargs\u001b[0m\u001b[0;34m)\u001b[0m\u001b[0;34m\u001b[0m\u001b[0;34m\u001b[0m\u001b[0m\n\u001b[0m\u001b[1;32m    392\u001b[0m \u001b[0;34m\u001b[0m\u001b[0m\n\u001b[1;32m    393\u001b[0m         \u001b[0;31m# This will be only executed after reading the whole tree,\u001b[0m\u001b[0;34m\u001b[0m\u001b[0;34m\u001b[0m\u001b[0;34m\u001b[0m\u001b[0m\n",
      "\u001b[0;32m~/miniconda3/envs/ete3/lib/python3.6/site-packages/ete3/coretype/tree.py\u001b[0m in \u001b[0;36m__init__\u001b[0;34m(self, newick, format, dist, support, name, quoted_node_names)\u001b[0m\n\u001b[1;32m    211\u001b[0m             \u001b[0mself\u001b[0m\u001b[0;34m.\u001b[0m\u001b[0m_dist\u001b[0m \u001b[0;34m=\u001b[0m \u001b[0;36m0.0\u001b[0m\u001b[0;34m\u001b[0m\u001b[0;34m\u001b[0m\u001b[0m\n\u001b[1;32m    212\u001b[0m             read_newick(newick, root_node = self, format=format,\n\u001b[0;32m--> 213\u001b[0;31m                         quoted_names=quoted_node_names)\n\u001b[0m\u001b[1;32m    214\u001b[0m \u001b[0;34m\u001b[0m\u001b[0m\n\u001b[1;32m    215\u001b[0m \u001b[0;34m\u001b[0m\u001b[0m\n",
      "\u001b[0;32m~/miniconda3/envs/ete3/lib/python3.6/site-packages/ete3/parser/newick.py\u001b[0m in \u001b[0;36mread_newick\u001b[0;34m(newick, root_node, format, quoted_names)\u001b[0m\n\u001b[1;32m    262\u001b[0m             \u001b[0;32mreturn\u001b[0m \u001b[0m_read_newick_from_string\u001b[0m\u001b[0;34m(\u001b[0m\u001b[0mnw\u001b[0m\u001b[0;34m,\u001b[0m \u001b[0mroot_node\u001b[0m\u001b[0;34m,\u001b[0m \u001b[0mmatcher\u001b[0m\u001b[0;34m,\u001b[0m \u001b[0mformat\u001b[0m\u001b[0;34m,\u001b[0m \u001b[0mquoted_names\u001b[0m\u001b[0;34m)\u001b[0m\u001b[0;34m\u001b[0m\u001b[0;34m\u001b[0m\u001b[0m\n\u001b[1;32m    263\u001b[0m         \u001b[0;32melif\u001b[0m \u001b[0;32mnot\u001b[0m \u001b[0mnw\u001b[0m\u001b[0;34m.\u001b[0m\u001b[0mstartswith\u001b[0m\u001b[0;34m(\u001b[0m\u001b[0;34m'('\u001b[0m\u001b[0;34m)\u001b[0m \u001b[0;32mor\u001b[0m \u001b[0;32mnot\u001b[0m \u001b[0mnw\u001b[0m\u001b[0;34m.\u001b[0m\u001b[0mendswith\u001b[0m\u001b[0;34m(\u001b[0m\u001b[0;34m';'\u001b[0m\u001b[0;34m)\u001b[0m\u001b[0;34m:\u001b[0m\u001b[0;34m\u001b[0m\u001b[0;34m\u001b[0m\u001b[0m\n\u001b[0;32m--> 264\u001b[0;31m             \u001b[0;32mraise\u001b[0m \u001b[0mNewickError\u001b[0m\u001b[0;34m(\u001b[0m\u001b[0;34m'Unexisting tree file or Malformed newick tree structure.'\u001b[0m\u001b[0;34m)\u001b[0m\u001b[0;34m\u001b[0m\u001b[0;34m\u001b[0m\u001b[0m\n\u001b[0m\u001b[1;32m    265\u001b[0m         \u001b[0;32melse\u001b[0m\u001b[0;34m:\u001b[0m\u001b[0;34m\u001b[0m\u001b[0;34m\u001b[0m\u001b[0m\n\u001b[1;32m    266\u001b[0m             \u001b[0;32mreturn\u001b[0m \u001b[0m_read_newick_from_string\u001b[0m\u001b[0;34m(\u001b[0m\u001b[0mnw\u001b[0m\u001b[0;34m,\u001b[0m \u001b[0mroot_node\u001b[0m\u001b[0;34m,\u001b[0m \u001b[0mmatcher\u001b[0m\u001b[0;34m,\u001b[0m \u001b[0mformat\u001b[0m\u001b[0;34m,\u001b[0m \u001b[0mquoted_names\u001b[0m\u001b[0;34m)\u001b[0m\u001b[0;34m\u001b[0m\u001b[0;34m\u001b[0m\u001b[0m\n",
      "\u001b[0;31mNewickError\u001b[0m: Unexisting tree file or Malformed newick tree structure.\nYou may want to check other newick loading flags like 'format' or 'quoted_node_names'."
     ]
    }
   ],
   "source": [
    "from ete3 import EvolTree\n",
    "from ete3.treeview.layouts import evol_clean_layout\n",
    "\n",
    "# this works but requires running stand-alone ete3 to get alignments and stuff\n",
    "#path = '/Users/jra/Dropbox/ciliates/old/Elde_Malik_2011/supplemental_sequences/rosias/rosias_10_mixed_types/clustalo_default-none-none-fasttree_full/'\n",
    "#input_newick = path + 'rosias_cenH3_10_renamed.fa.aa.final_tree.nw'\n",
    "#input_alignment = path + 'rosias_cenH3_10_renamed.fa.aa.final_tree.used_alg.fa'\n",
    "\n",
    "\n",
    "path = '/Users/jra/Dropbox/ciliates/old/Elde_Malik_2011/supplemental_sequences/rosias/testing_ete3/'\n",
    "\n",
    "input_newick = path + 'trosias_cenH3_10_renamed.fa.simplified.nwk'\n",
    "input_alignment = path + 'test_aln_trimal.aligned'\n",
    "  \n",
    "\n",
    "\n",
    "print(input_newick)\n",
    "\n",
    "tree = EvolTree(newick = input_newick, format=1)\n",
    "tree.link_to_alignment(input_alignment) \n",
    "                \n",
    "\n",
    "print(tree)"
   ]
  },
  {
   "cell_type": "code",
   "execution_count": 14,
   "id": "a4e2552c",
   "metadata": {},
   "outputs": [],
   "source": [
    "tree.run_model('M2.example')"
   ]
  },
  {
   "cell_type": "code",
   "execution_count": 15,
   "id": "58544d57",
   "metadata": {},
   "outputs": [
    {
     "name": "stdout",
     "output_type": "stream",
     "text": [
      " Evolutionary Model M2.example:\n",
      "        log likelihood       : -3782.708667\n",
      "        number of parameters : 22\n",
      "        sites inference      : BEB, NEB\n",
      "        sites classes        : \n",
      "        proportions : p0=0.0       p1=1.0       p2=0.0       \n",
      "        w           : w0=0.0       w1=1.0       w2=1.0       \n",
      "        branches             : \n",
      "        mark:     , omega: None      , node_ids: 11  , name: ROOT\n",
      "        mark:     , omega: 1.0       , node_ids: 1   , name: ahirsuta_cenH3\n",
      "        mark:     , omega: 1.0       , node_ids: 12  , name: EDGE\n",
      "        mark:     , omega: 1.0       , node_ids: 6   , name: cflexuosa_cenH3\n",
      "        mark:     , omega: 1.0       , node_ids: 13  , name: EDGE\n",
      "        mark:     , omega: 1.0       , node_ids: 14  , name: EDGE\n",
      "        mark:     , omega: 1.0       , node_ids: 8   , name: opumila_cenH3\n",
      "        mark:     , omega: 1.0       , node_ids: 5   , name: cbursapastoris_cenH3\n",
      "        mark:     , omega: 1.0       , node_ids: 9   , name: rsativus_cenH3\n",
      "        mark:     , omega: 1.0       , node_ids: 15  , name: EDGE\n",
      "        mark:     , omega: 1.0       , node_ids: 7   , name: esativa_cenH3\n",
      "        mark:     , omega: 1.0       , node_ids: 16  , name: EDGE\n",
      "        mark:     , omega: 1.0       , node_ids: 17  , name: EDGE\n",
      "        mark:     , omega: 1.0       , node_ids: 2   , name: athalina_cenH3\n",
      "        mark:     , omega: 1.0       , node_ids: 10  , name: vvinifera_cenH3\n",
      "        mark:     , omega: 1.0       , node_ids: 18  , name: EDGE\n",
      "        mark:     , omega: 1.0       , node_ids: 4   , name: brapa_cenH3\n",
      "        mark:     , omega: 1.0       , node_ids: 3   , name: boleracea_cenH3\n",
      "        \n"
     ]
    }
   ],
   "source": [
    "my_first_fb_model = tree.get_evol_model('M2.example')\n",
    "\n",
    "print(my_first_fb_model)"
   ]
  },
  {
   "cell_type": "code",
   "execution_count": 9,
   "id": "451507d3",
   "metadata": {},
   "outputs": [],
   "source": [
    "from ete3.treeview.layouts import evol_clean_layout\n",
    "\n",
    "tree.show(layout=evol_clean_layout)"
   ]
  },
  {
   "cell_type": "code",
   "execution_count": 16,
   "id": "58f251ca",
   "metadata": {},
   "outputs": [
    {
     "name": "stdout",
     "output_type": "stream",
     "text": [
      "1\n"
     ]
    },
    {
     "name": "stderr",
     "output_type": "stream",
     "text": [
      "/Users/jra/miniconda3/envs/ete3/lib/python3.6/site-packages/ete3/evol/evoltree.py:540: UserWarning: \n",
      "WARNING: Likelihood of the alternative model is smaller than null's (-3771.374794 - -3782.710098 = 11.335304)\n",
      "Large differences (> 0.1) may indicate mistaken assigantion of null and alternative models\n",
      "  \"\\nLarge differences (> 0.1) may indicate mistaken \"\n"
     ]
    }
   ],
   "source": [
    "tree.run_model('M7')\n",
    "tree.run_model('M8')\n",
    "pval = tree.get_most_likely ('M8','M7')\n",
    "print(pval)"
   ]
  }
 ],
 "metadata": {
  "kernelspec": {
   "display_name": "Python 3",
   "language": "python",
   "name": "python3"
  },
  "language_info": {
   "codemirror_mode": {
    "name": "ipython",
    "version": 3
   },
   "file_extension": ".py",
   "mimetype": "text/x-python",
   "name": "python",
   "nbconvert_exporter": "python",
   "pygments_lexer": "ipython3",
   "version": "3.6.13"
  }
 },
 "nbformat": 4,
 "nbformat_minor": 5
}
