{
 "cells": [
  {
   "cell_type": "code",
   "execution_count": 2,
   "id": "366435e7",
   "metadata": {},
   "outputs": [
    {
     "name": "stdout",
     "output_type": "stream",
     "text": [
      "/Users/jra/Dropbox/ciliates/old/Elde_Malik_2011/supplemental_sequences/rosias/rosias_cenH3_10_renamed.fa.simplified.nwk\n",
      "\n",
      "   /-ahirsuta_cenH3\n",
      "  |\n",
      "  |      /-opumila_cenH3\n",
      "  |   /-|\n",
      "  |  |   \\-cbursapastoris_cenH3\n",
      "  |--|\n",
      "  |  |   /-rsativus_cenH3\n",
      "  |  |  |\n",
      "  |   \\-|   /-esativa_cenH3\n",
      "--|     |  |\n",
      "  |      \\-|      /-vvinifera_cenH3\n",
      "  |        |   /-|\n",
      "  |        |  |  |   /-brapa_cenH3\n",
      "  |         \\-|   \\-|\n",
      "  |           |      \\-boleracea_cenH3\n",
      "  |           |\n",
      "  |            \\-athalina_cenH3\n",
      "  |\n",
      "   \\-cflexuosa_cenH3\n"
     ]
    }
   ],
   "source": [
    "from ete3 import EvolTree\n",
    "from ete3.treeview.layouts import evol_clean_layout\n",
    "\n",
    "# this works but requires running stand-alone ete3 to get alignments and stuff\n",
    "#path = '/Users/jra/Dropbox/ciliates/old/Elde_Malik_2011/supplemental_sequences/rosias/rosias_10_mixed_types/clustalo_default-none-none-fasttree_full/'\n",
    "#input_newick = path + 'rosias_cenH3_10_renamed.fa.aa.final_tree.nw'\n",
    "#input_alignment = path + 'rosias_cenH3_10_renamed.fa.aa.final_tree.used_alg.fa'\n",
    "\n",
    "\n",
    "path = '/Users/jra/Dropbox/ciliates/old/Elde_Malik_2011/supplemental_sequences/rosias/'\n",
    "\n",
    "input_newick = path + 'rosias_cenH3_10_renamed.fa.simplified.nwk'\n",
    "input_alignment = path + 'test_aln_trimal.aligned'\n",
    "  \n",
    "\n",
    "\n",
    "print(input_newick)\n",
    "\n",
    "tree = EvolTree(newick = input_newick, format=1)\n",
    "tree.link_to_alignment(input_alignment) \n",
    "                \n",
    "\n",
    "print(tree)"
   ]
  },
  {
   "cell_type": "code",
   "execution_count": 3,
   "id": "a4e2552c",
   "metadata": {},
   "outputs": [],
   "source": [
    "tree.run_model('M2.example')"
   ]
  },
  {
   "cell_type": "code",
   "execution_count": 22,
   "id": "58544d57",
   "metadata": {},
   "outputs": [
    {
     "name": "stdout",
     "output_type": "stream",
     "text": [
      " Evolutionary Model M2.example:\n",
      "        log likelihood       : -9912.991539\n",
      "        number of parameters : 22\n",
      "        sites inference      : BEB, NEB\n",
      "        sites classes        : \n",
      "        proportions : p0=0.23132   p1=0.52641   p2=0.24227   \n",
      "        w           : w0=0.19498   w1=1.0       w2=2.69513   \n",
      "        branches             : \n",
      "        mark:     , omega: None      , node_ids: 11  , name: ROOT\n",
      "        mark:     , omega: 1.2245    , node_ids: 1   , name: ahirsuta_cenH3\n",
      "        mark:     , omega: 1.2245    , node_ids: 12  , name: EDGE\n",
      "        mark:     , omega: 1.2245    , node_ids: 6   , name: cflexuosa_cenH3\n",
      "        mark:     , omega: 1.2245    , node_ids: 13  , name: EDGE\n",
      "        mark:     , omega: 1.2245    , node_ids: 14  , name: EDGE\n",
      "        mark:     , omega: 1.2245    , node_ids: 8   , name: opumila_cenH3\n",
      "        mark:     , omega: 1.2245    , node_ids: 5   , name: cbursapastoris_cenH3\n",
      "        mark:     , omega: 1.2245    , node_ids: 9   , name: rsativus_cenH3\n",
      "        mark:     , omega: 1.2245    , node_ids: 15  , name: EDGE\n",
      "        mark:     , omega: 1.2245    , node_ids: 7   , name: esativa_cenH3\n",
      "        mark:     , omega: 1.2245    , node_ids: 16  , name: EDGE\n",
      "        mark:     , omega: 1.2245    , node_ids: 17  , name: EDGE\n",
      "        mark:     , omega: 1.2245    , node_ids: 2   , name: athalina_cenH3\n",
      "        mark:     , omega: 1.2245    , node_ids: 10  , name: vvinifera_cenH3\n",
      "        mark:     , omega: 1.2245    , node_ids: 18  , name: EDGE\n",
      "        mark:     , omega: 1.2245    , node_ids: 4   , name: brapa_cenH3\n",
      "        mark:     , omega: 1.2245    , node_ids: 3   , name: boleracea_cenH3\n",
      "        \n"
     ]
    }
   ],
   "source": [
    "my_first_fb_model = tree.get_evol_model('M2.example')\n",
    "\n",
    "print(my_first_fb_model)"
   ]
  },
  {
   "cell_type": "code",
   "execution_count": 9,
   "id": "451507d3",
   "metadata": {},
   "outputs": [],
   "source": [
    "from ete3.treeview.layouts import evol_clean_layout\n",
    "\n",
    "tree.show(layout=evol_clean_layout)"
   ]
  },
  {
   "cell_type": "code",
   "execution_count": 25,
   "id": "58f251ca",
   "metadata": {},
   "outputs": [
    {
     "name": "stdout",
     "output_type": "stream",
     "text": [
      "0.0\n"
     ]
    },
    {
     "ename": "NameError",
     "evalue": "name 'my_first_second_model' is not defined",
     "output_type": "error",
     "traceback": [
      "\u001b[0;31m-------------------------------------------------------------------------\u001b[0m",
      "\u001b[0;31mNameError\u001b[0m                               Traceback (most recent call last)",
      "\u001b[0;32m<ipython-input-25-f6c1d615faa5>\u001b[0m in \u001b[0;36m<module>\u001b[0;34m\u001b[0m\n\u001b[1;32m      5\u001b[0m \u001b[0;34m\u001b[0m\u001b[0m\n\u001b[1;32m      6\u001b[0m \u001b[0mmy_second_fb_model\u001b[0m \u001b[0;34m=\u001b[0m \u001b[0mtree\u001b[0m\u001b[0;34m.\u001b[0m\u001b[0mget_evol_model\u001b[0m\u001b[0;34m(\u001b[0m\u001b[0;34m'M7'\u001b[0m\u001b[0;34m)\u001b[0m\u001b[0;34m\u001b[0m\u001b[0;34m\u001b[0m\u001b[0m\n\u001b[0;32m----> 7\u001b[0;31m \u001b[0mprint\u001b[0m\u001b[0;34m(\u001b[0m\u001b[0mmy_first_second_model\u001b[0m\u001b[0;34m)\u001b[0m\u001b[0;34m\u001b[0m\u001b[0;34m\u001b[0m\u001b[0m\n\u001b[0m",
      "\u001b[0;31mNameError\u001b[0m: name 'my_first_second_model' is not defined"
     ]
    }
   ],
   "source": [
    "tree.run_model('M7')\n",
    "tree.run_model('M8')\n",
    "pval = tree.get_most_likely ('M8','M7')\n",
    "print(pval)\n",
    "\n",
    "my_second_fb_model = tree.get_evol_model('M7')\n",
    "print(my_first_second_model)"
   ]
  }
 ],
 "metadata": {
  "kernelspec": {
   "display_name": "Python 3",
   "language": "python",
   "name": "python3"
  },
  "language_info": {
   "codemirror_mode": {
    "name": "ipython",
    "version": 3
   },
   "file_extension": ".py",
   "mimetype": "text/x-python",
   "name": "python",
   "nbconvert_exporter": "python",
   "pygments_lexer": "ipython3",
   "version": "3.6.13"
  }
 },
 "nbformat": 4,
 "nbformat_minor": 5
}
