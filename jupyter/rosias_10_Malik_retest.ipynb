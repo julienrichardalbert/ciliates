{
 "cells": [
  {
   "cell_type": "code",
   "execution_count": 22,
   "id": "366435e7",
   "metadata": {},
   "outputs": [
    {
     "name": "stdout",
     "output_type": "stream",
     "text": [
      "/Users/jra/Dropbox/ciliates/Elde_Malik_2011/supplemental_sequences/rosias/rosias_10_mixed_types/clustalo_default-none-none-fasttree_full/rosias_cenH3_10_renamed.fa.aa.final_tree.nw\n",
      "\n",
      "      /-cbursapastoris_cenH3\n",
      "     |\n",
      "   /-|      /-cflexuosa_cenH3\n",
      "  |  |   /-|\n",
      "  |  |  |   \\-esativa_cenH3\n",
      "  |   \\-|\n",
      "  |     |   /-ahirsuta_cenH3\n",
      "  |      \\-|\n",
      "--|        |   /-rsativus_cenH3\n",
      "  |         \\-|\n",
      "  |            \\-opumila_cenH3\n",
      "  |\n",
      "  |      /-brapa_cenH3\n",
      "  |   /-|\n",
      "  |  |  |   /-vvinifera_cenH3\n",
      "   \\-|   \\-|\n",
      "     |      \\-athalina_cenH3\n",
      "     |\n",
      "      \\-boleracea_cenH3\n"
     ]
    }
   ],
   "source": [
    "from ete3 import EvolTree\n",
    "from ete3.treeview.layouts import evol_clean_layout\n",
    "\n",
    "path = '/Users/jra/Dropbox/ciliates/Elde_Malik_2011/supplemental_sequences/rosias/rosias_10_mixed_types/clustalo_default-none-none-fasttree_full/'\n",
    "\n",
    "input_newick = path + 'rosias_cenH3_10_renamed.fa.aa.final_tree.nw'\n",
    "input_alignment = path + 'rosias_cenH3_10_renamed.fa.aa.final_tree.used_alg.fa'\n",
    "\n",
    "print(input_newick)\n",
    "\n",
    "tree = EvolTree(newick = input_newick, format=1)\n",
    "tree.link_to_alignment(input_alignment) \n",
    "                \n",
    "\n",
    "print(tree)"
   ]
  },
  {
   "cell_type": "code",
   "execution_count": 23,
   "id": "a4e2552c",
   "metadata": {},
   "outputs": [],
   "source": [
    "tree.run_model('M2.example')"
   ]
  },
  {
   "cell_type": "code",
   "execution_count": 24,
   "id": "58544d57",
   "metadata": {},
   "outputs": [
    {
     "name": "stdout",
     "output_type": "stream",
     "text": [
      " Evolutionary Model M2.example:\n",
      "        log likelihood       : -3771.16583\n",
      "        number of parameters : 23\n",
      "        sites inference      : BEB, NEB\n",
      "        sites classes        : \n",
      "        proportions : p0=1.0       p1=0.0       p2=0.0       \n",
      "        w           : w0=0.1472    w1=1.0       w2=1.0       \n",
      "        branches             : \n",
      "        mark:     , omega: None      , node_ids: 11  , name: ROOT\n",
      "        mark:     , omega: 0.1472    , node_ids: 12  , name: 0.999\n",
      "        mark:     , omega: 0.1472    , node_ids: 17  , name: 0.999\n",
      "        mark:     , omega: 0.1472    , node_ids: 5   , name: cbursapastoris_cenH3\n",
      "        mark:     , omega: 0.1472    , node_ids: 13  , name: 0.921\n",
      "        mark:     , omega: 0.1472    , node_ids: 18  , name: 0.746\n",
      "        mark:     , omega: 0.1472    , node_ids: 3   , name: boleracea_cenH3\n",
      "        mark:     , omega: 0.1472    , node_ids: 14  , name: 0.889\n",
      "        mark:     , omega: 0.1472    , node_ids: 15  , name: 0.487\n",
      "        mark:     , omega: 0.1472    , node_ids: 4   , name: brapa_cenH3\n",
      "        mark:     , omega: 0.1472    , node_ids: 19  , name: 0.999\n",
      "        mark:     , omega: 0.1472    , node_ids: 6   , name: cflexuosa_cenH3\n",
      "        mark:     , omega: 0.1472    , node_ids: 7   , name: esativa_cenH3\n",
      "        mark:     , omega: 0.1472    , node_ids: 1   , name: ahirsuta_cenH3\n",
      "        mark:     , omega: 0.1472    , node_ids: 16  , name: 0.295\n",
      "        mark:     , omega: 0.1472    , node_ids: 10  , name: vvinifera_cenH3\n",
      "        mark:     , omega: 0.1472    , node_ids: 2   , name: athalina_cenH3\n",
      "        mark:     , omega: 0.1472    , node_ids: 9   , name: rsativus_cenH3\n",
      "        mark:     , omega: 0.1472    , node_ids: 8   , name: opumila_cenH3\n",
      "        \n"
     ]
    }
   ],
   "source": [
    "my_first_fb_model = tree.get_evol_model('M2.example')\n",
    "\n",
    "print(my_first_fb_model)"
   ]
  },
  {
   "cell_type": "code",
   "execution_count": 25,
   "id": "451507d3",
   "metadata": {},
   "outputs": [
    {
     "name": "stderr",
     "output_type": "stream",
     "text": [
      "/Users/jra/miniconda3/envs/ete3/lib/python3.6/site-packages/ete3/evol/evoltree.py:459: UserWarning: Model M2 not found.\n",
      "  warn(\"Model %s not found.\" % (modelname))\n"
     ]
    },
    {
     "ename": "AttributeError",
     "evalue": "'NoneType' object has no attribute 'properties'",
     "output_type": "error",
     "traceback": [
      "\u001b[0;31m--------------------------------------------\u001b[0m",
      "\u001b[0;31mAttributeError\u001b[0mTraceback (most recent call last)",
      "\u001b[0;32m<ipython-input-25-3bcf6dbfac80>\u001b[0m in \u001b[0;36m<module>\u001b[0;34m\u001b[0m\n\u001b[1;32m      1\u001b[0m \u001b[0;32mfrom\u001b[0m \u001b[0mete3\u001b[0m\u001b[0;34m.\u001b[0m\u001b[0mtreeview\u001b[0m\u001b[0;34m.\u001b[0m\u001b[0mlayouts\u001b[0m \u001b[0;32mimport\u001b[0m \u001b[0mevol_clean_layout\u001b[0m\u001b[0;34m\u001b[0m\u001b[0;34m\u001b[0m\u001b[0m\n\u001b[1;32m      2\u001b[0m \u001b[0;34m\u001b[0m\u001b[0m\n\u001b[0;32m----> 3\u001b[0;31m \u001b[0mtree\u001b[0m\u001b[0;34m.\u001b[0m\u001b[0mshow\u001b[0m\u001b[0;34m(\u001b[0m\u001b[0mlayout\u001b[0m\u001b[0;34m=\u001b[0m\u001b[0mevol_clean_layout\u001b[0m\u001b[0;34m,\u001b[0m \u001b[0mhistfaces\u001b[0m\u001b[0;34m=\u001b[0m\u001b[0;34m[\u001b[0m\u001b[0;34m'M2'\u001b[0m\u001b[0;34m]\u001b[0m\u001b[0;34m)\u001b[0m\u001b[0;34m\u001b[0m\u001b[0;34m\u001b[0m\u001b[0m\n\u001b[0m",
      "\u001b[0;32m~/miniconda3/envs/ete3/lib/python3.6/site-packages/ete3/evol/evoltree.py\u001b[0m in \u001b[0;36mshow\u001b[0;34m(self, layout, tree_style, histfaces)\u001b[0m\n\u001b[1;32m    332\u001b[0m                     \u001b[0;32mexcept\u001b[0m \u001b[0mAttributeError\u001b[0m\u001b[0;34m:\u001b[0m\u001b[0;34m\u001b[0m\u001b[0;34m\u001b[0m\u001b[0m\n\u001b[1;32m    333\u001b[0m                         \u001b[0mwarn\u001b[0m\u001b[0;34m(\u001b[0m\u001b[0;34m'model %s not computed'\u001b[0m \u001b[0;34m%\u001b[0m \u001b[0;34m(\u001b[0m\u001b[0mhist\u001b[0m\u001b[0;34m)\u001b[0m\u001b[0;34m)\u001b[0m\u001b[0;34m\u001b[0m\u001b[0;34m\u001b[0m\u001b[0m\n\u001b[0;32m--> 334\u001b[0;31m                     \u001b[0;32mif\u001b[0m \u001b[0;32mnot\u001b[0m \u001b[0;34m'histface'\u001b[0m \u001b[0;32min\u001b[0m \u001b[0mmdl\u001b[0m\u001b[0;34m.\u001b[0m\u001b[0mproperties\u001b[0m\u001b[0;34m:\u001b[0m\u001b[0;34m\u001b[0m\u001b[0;34m\u001b[0m\u001b[0m\n\u001b[0m\u001b[1;32m    335\u001b[0m                         \u001b[0;32mif\u001b[0m \u001b[0mlen\u001b[0m\u001b[0;34m(\u001b[0m\u001b[0mhistfaces\u001b[0m\u001b[0;34m)\u001b[0m\u001b[0;34m>\u001b[0m\u001b[0;36m1\u001b[0m \u001b[0;32mand\u001b[0m \u001b[0mhistfaces\u001b[0m\u001b[0;34m.\u001b[0m\u001b[0mindex\u001b[0m\u001b[0;34m(\u001b[0m\u001b[0mhist\u001b[0m\u001b[0;34m)\u001b[0m\u001b[0;34m!=\u001b[0m\u001b[0;36m0\u001b[0m\u001b[0;34m:\u001b[0m\u001b[0;34m\u001b[0m\u001b[0;34m\u001b[0m\u001b[0m\n\u001b[1;32m    336\u001b[0m                             \u001b[0mmdl\u001b[0m\u001b[0;34m.\u001b[0m\u001b[0mset_histface\u001b[0m\u001b[0;34m(\u001b[0m\u001b[0mup\u001b[0m\u001b[0;34m=\u001b[0m\u001b[0;32mFalse\u001b[0m\u001b[0;34m)\u001b[0m\u001b[0;34m\u001b[0m\u001b[0;34m\u001b[0m\u001b[0m\n",
      "\u001b[0;31mAttributeError\u001b[0m: 'NoneType' object has no attribute 'properties'"
     ]
    }
   ],
   "source": [
    "from ete3.treeview.layouts import evol_clean_layout\n",
    "\n",
    "tree.show(layout=evol_clean_layout, histfaces=['M2'])"
   ]
  },
  {
   "cell_type": "code",
   "execution_count": 18,
   "id": "58f251ca",
   "metadata": {},
   "outputs": [
    {
     "name": "stderr",
     "output_type": "stream",
     "text": [
      "/Users/jra/miniconda3/envs/ete3/lib/python3.6/site-packages/ete3/evol/parser/codemlparser.py:305: UserWarning: WARNING: labelling does not correspond (bad tree?)!!\n",
      "         Getting them from /tmp/ete3-tmp/M7/out\n",
      "  '         Getting them from ' + pamout)\n"
     ]
    },
    {
     "name": "stdout",
     "output_type": "stream",
     "text": [
      "0.8598502782060087\n"
     ]
    }
   ],
   "source": [
    "tree.run_model('M7')\n",
    "tree.run_model('M8')\n",
    "pval = tree.get_most_likely ('M8','M7')\n",
    "print(pval)"
   ]
  }
 ],
 "metadata": {
  "kernelspec": {
   "display_name": "Python 3",
   "language": "python",
   "name": "python3"
  },
  "language_info": {
   "codemirror_mode": {
    "name": "ipython",
    "version": 3
   },
   "file_extension": ".py",
   "mimetype": "text/x-python",
   "name": "python",
   "nbconvert_exporter": "python",
   "pygments_lexer": "ipython3",
   "version": "3.6.13"
  }
 },
 "nbformat": 4,
 "nbformat_minor": 5
}
