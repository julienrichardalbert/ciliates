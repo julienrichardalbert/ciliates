{
 "cells": [
  {
   "cell_type": "code",
   "execution_count": 18,
   "id": "49394c19",
   "metadata": {},
   "outputs": [],
   "source": [
    "import ete3\n",
    "from ete3 import EvolTree\n",
    "\n",
    "tree = EvolTree(\"((Hylobates_lar,(Gorilla_gorilla,Pan_troglodytes)),Papio_cynocephalus);\")\n",
    "\n",
    "tree.link_to_alignment ('''>Hylobates_lar\n",
    "ATGGCCAGGTACAGATGCTGCCGCAGCCAGAGCCGGAGCAGATGTTACCGCCAGAGCCGGAGCAGATGTTACCGCCAGAGGCAAAGCCAGAGTCGGAGCAGATGTTACCGCCAGAGCCAGAGCCGGAGCAGATGTTACCGCCAGAGACAAAGAAGTCGGAGACGAAGGAGGCGGAGCTGCCAGACACGGAGGAGAGCCATGAGGTGT---CGCCGCAGGTACAGGCTGAGACGTAGAAGCTGTTACCACATTGTATCT\n",
    ">Papio_cynocephalus\n",
    "ATGGCCAGGTACAGATGCTGCCGCAGCCAGAGCCGAAGCAGATGCTATCGCCAGAGCCGGAGCAGATGTAACCGCCAGAGACAGAGCCAAAGCCGGAGAAGCTGCTATCGCCAGAGCCAAAGCCGGAGCAGATGTTACCGCCAGAGACAGAGAAGTCGTAGACGAAGGAGGCGACGCTGCCAGACACGGAGGAGAGCCATGAGGTGCTTCCGCCGCAGGTACAGGCTGAGGCGTAGGAGGCCCTATCACATCGTGTCT\n",
    ">Gorilla_gorilla\n",
    "ATGGCCAGGTACAGATGCTGTCGCAGCCAGAGCCGCAGCAGATGTTACCGGCAGAGCCGGAGCAGGTGTTACCGGCAGAGACAAAGCCAGAGCCGGAGCAGATGCTACCGGCAGAGCCAAAGCCGGAGCAGGTGTTACCGGCAGAGACAAAGAAGTCGCAGACGTAGGCGGAGGAGCTGCCAGACACGGAGGAGAGCCATGAGGTGCTGCCGCCGCAGGTACAGACTGAGACGTAGAAGACCCTATCATATTGTATCT\n",
    ">Pan_troglodytes\n",
    "ATGGCCAGGTACAGATGCTGTCGCAGCCAGAGCCGGAGCAGATGTTACCGGCAGAGACGGAGCAGGTGTTACCGGCAAAGGCAAAGCCAAAGTCGGAGCAGATGTTACCGGCAGAGCCAGAGACGGAGCAGGTGTTACCGGCAAAGACAAAGAAGTCGCAGACGAAGGCGACGGAGCTGCCAGACACGGAGGAGAGCCATGAGGTGCTGCCGCCGCAGGTACAGACTGAGACGTAAAAGATGTTACCATATTGTATCT''')\n",
    "\n",
    "tree.workdir = '/Users/jra/Desktop'"
   ]
  },
  {
   "cell_type": "code",
   "execution_count": 19,
   "id": "71e4c701",
   "metadata": {},
   "outputs": [],
   "source": [
    "tree.run_model ('fb.example')"
   ]
  },
  {
   "cell_type": "code",
   "execution_count": 8,
   "id": "efa16a00",
   "metadata": {},
   "outputs": [
    {
     "name": "stdout",
     "output_type": "stream",
     "text": [
      " Evolutionary Model fb.example:\n",
      "        log likelihood       : -521.421323\n",
      "        number of parameters : 13\n",
      "        sites inference      : None\n",
      "        sites classes        : None\n",
      "        branches             : \n",
      "        mark: #0  , omega: None      , node_ids: 5   , name: ROOT\n",
      "        mark: #1  , omega: 0.0001    , node_ids: 6   , name: EDGE\n",
      "        mark: #2  , omega: 999.0     , node_ids: 4   , name: Papio_cynocephalus\n",
      "        mark: #3  , omega: 999.0     , node_ids: 2   , name: Hylobates_lar\n",
      "        mark: #4  , omega: 0.0001    , node_ids: 7   , name: EDGE\n",
      "        mark: #5  , omega: 0.1049    , node_ids: 1   , name: Gorilla_gorilla\n",
      "        mark: #6  , omega: 0.5334    , node_ids: 3   , name: Pan_troglodytes\n",
      "        \n"
     ]
    },
    {
     "data": {
      "text/plain": [
       "'((Hylobates_lar:0.013,(Gorilla_gorilla:0.154,Pan_troglodytes:0.083):0.189):0.355,Papio_cynocephalus:0.086):0;'"
      ]
     },
     "execution_count": 8,
     "metadata": {},
     "output_type": "execute_result"
    }
   ],
   "source": [
    "my_first_fb_model = tree.get_evol_model('fb.example')\n",
    "\n",
    "print(my_first_fb_model)\n",
    "\n",
    "tree.write(format=1, outfile=\"new_tree.nw\")"
   ]
  },
  {
   "cell_type": "code",
   "execution_count": 9,
   "id": "40d36ef4",
   "metadata": {},
   "outputs": [
    {
     "name": "stdout",
     "output_type": "stream",
     "text": [
      "current model log likelihood: -521.421323\n",
      "current model log likelihood: -521.421323\n",
      "current model log likelihood: -521.421323\n"
     ]
    }
   ],
   "source": [
    "best_model = None\n",
    "best_lnl   = float('-inf')\n",
    "for starting_omega in [0.2, 0.7, 1.2]:\n",
    "    tree.run_model('fb.'+str(starting_omega))\n",
    "    current_model = tree.get_evol_model('fb.'+str(starting_omega))\n",
    "    print('current model log likelihood:', current_model.lnL)\n",
    "    if current_model.lnL > best_lnl:\n",
    "        best_lnl = current_model.lnL\n",
    "        best_model = current_model"
   ]
  },
  {
   "cell_type": "code",
   "execution_count": 10,
   "id": "ccb100d7",
   "metadata": {},
   "outputs": [],
   "source": [
    "tree.show()"
   ]
  },
  {
   "cell_type": "code",
   "execution_count": 11,
   "id": "38a7666a",
   "metadata": {},
   "outputs": [],
   "source": [
    "# this opens a separate window. make sure you've closed the last one!\n",
    "from ete3.treeview.layouts import evol_clean_layout\n",
    "tree.show(layout=evol_clean_layout)"
   ]
  },
  {
   "cell_type": "code",
   "execution_count": 27,
   "id": "e3f7a8cf",
   "metadata": {
    "scrolled": false
   },
   "outputs": [
    {
     "data": {
      "text/plain": [
       "'((Hylobates_lar:0.013,(Gorilla_gorilla:0.154,Pan_troglodytes:0.083):0.189):0.355,Papio_cynocephalus:0.086):0;'"
      ]
     },
     "execution_count": 27,
     "metadata": {},
     "output_type": "execute_result"
    }
   ],
   "source": [
    "# FUCK SLR CAN'T INSTALL THE BASTARD!\n",
    "tree.run_model('M2')\n",
    "tree.show (histfaces=['M2'])"
   ]
  },
  {
   "cell_type": "code",
   "execution_count": 17,
   "id": "6ea373f7",
   "metadata": {},
   "outputs": [
    {
     "data": {
      "text/plain": [
       "{'nodes': [[115.00774124726694,\n",
       "   130.7840341656004,\n",
       "   119.73679776970693,\n",
       "   135.51309068804036,\n",
       "   0,\n",
       "   None],\n",
       "  [138.61552150537017,\n",
       "   153.6411051875351,\n",
       "   143.84882960813678,\n",
       "   158.8744132903017,\n",
       "   1,\n",
       "   None],\n",
       "  [169.8916803810459,\n",
       "   128.4382652698368,\n",
       "   173.8916803810459,\n",
       "   132.4382652698368,\n",
       "   2,\n",
       "   None],\n",
       "  [98.49038077320911,\n",
       "   157.1131070020293,\n",
       "   104.1471138622972,\n",
       "   162.7698400911174,\n",
       "   3,\n",
       "   None],\n",
       "  [128.6674090251868,\n",
       "   182.9407224195804,\n",
       "   132.68482418520873,\n",
       "   186.95813757960232,\n",
       "   4,\n",
       "   None],\n",
       "  [73.91128034889722,\n",
       "   128.89658649508706,\n",
       "   77.9460341831474,\n",
       "   132.93134032933725,\n",
       "   5,\n",
       "   None],\n",
       "  [128.0459463676785,\n",
       "   100.42975245505201,\n",
       "   132.09796206025993,\n",
       "   104.48176814763342,\n",
       "   6,\n",
       "   None]],\n",
       " 'faces': [[117.0815835855239,\n",
       "   123.04347336344615,\n",
       "   123.66823699139798,\n",
       "   132.81638204911235,\n",
       "   0,\n",
       "   '1'],\n",
       "  [118.90955319519377,\n",
       "   131.85588092926628,\n",
       "   125.49620660106784,\n",
       "   141.6287896149325,\n",
       "   0,\n",
       "   '0'],\n",
       "  [130.42149424191066,\n",
       "   150.26071455451606,\n",
       "   140.65361840692424,\n",
       "   158.34516874918566,\n",
       "   1,\n",
       "   '1'],\n",
       "  [138.72509457416007,\n",
       "   146.78937165554058,\n",
       "   148.95721873917364,\n",
       "   154.87382585021018,\n",
       "   1,\n",
       "   '1'],\n",
       "  [173.3916803810459,\n",
       "   124.43826526983679,\n",
       "   235.3916803810459,\n",
       "   136.4382652698368,\n",
       "   2,\n",
       "   'Hylobates_lar'],\n",
       "  [165.3916803810459,\n",
       "   121.43826526983679,\n",
       "   170.3916803810459,\n",
       "   130.4382652698368,\n",
       "   2,\n",
       "   '1'],\n",
       "  [259.3765305396736,\n",
       "   123.43826526983679,\n",
       "   260.3765305396736,\n",
       "   137.4382652698368,\n",
       "   2,\n",
       "   None],\n",
       "  [95.99183714237202,\n",
       "   148.96862927041522,\n",
       "   105.85989036667256,\n",
       "   158.89838797843845,\n",
       "   3,\n",
       "   '1'],\n",
       "  [102.39731359776857,\n",
       "   155.29080226546688,\n",
       "   112.26536682206911,\n",
       "   165.2205609734901,\n",
       "   3,\n",
       "   '1'],\n",
       "  [124.68271868480049,\n",
       "   186.423235864964,\n",
       "   136.95312962910359,\n",
       "   248.4750053810665,\n",
       "   4,\n",
       "   'Gorilla_gorilla'],\n",
       "  [130.6477550948469,\n",
       "   178.41022209134388,\n",
       "   139.66948596775725,\n",
       "   183.44944427851027,\n",
       "   4,\n",
       "   '1'],\n",
       "  [124.00092943480267,\n",
       "   259.34475997532525,\n",
       "   138.0051594741777,\n",
       "   260.4058367860324,\n",
       "   4,\n",
       "   None],\n",
       "  [1.379134784751306,\n",
       "   124.92728167707469,\n",
       "   74.4810735944163,\n",
       "   137.56386184522606,\n",
       "   5,\n",
       "   'Pan_troglodytes'],\n",
       "  [77.42860015061858,\n",
       "   130.85724093147275,\n",
       "   82.5069485854248,\n",
       "   139.90053091654215,\n",
       "   5,\n",
       "   '1'],\n",
       "  [-0.5561000205644373,\n",
       "   123.56375423429942,\n",
       "   0.5660333994769704,\n",
       "   137.5719476926962,\n",
       "   5,\n",
       "   None],\n",
       "  [123.24081686047955,\n",
       "   7.934135368567749,\n",
       "   135.6464903926098,\n",
       "   100.98560978701302,\n",
       "   6,\n",
       "   'Papio_cynocephalus'],\n",
       "  [121.11383268571642,\n",
       "   103.9947096981266,\n",
       "   130.13556355862676,\n",
       "   109.03393188529299,\n",
       "   6,\n",
       "   '1'],\n",
       "  [122.73744496731474,\n",
       "   -0.5237646624422645,\n",
       "   136.74167500668977,\n",
       "   0.5373121482649199,\n",
       "   6,\n",
       "   None]],\n",
       " 'node_areas': {0: [137.28240090744052,\n",
       "   130.4382652698368,\n",
       "   254.65894345785543,\n",
       "   148.4382652698368],\n",
       "  1: [130.4382652698368,\n",
       "   130.4382652698368,\n",
       "   239.8148078202517,\n",
       "   148.4382652698368],\n",
       "  2: [130.4382652698368,\n",
       "   130.4382652698368,\n",
       "   204.56377945330843,\n",
       "   151.4382652698368],\n",
       "  3: [130.4382652698368,\n",
       "   130.4382652698368,\n",
       "   227.68929363678006,\n",
       "   148.4382652698368],\n",
       "  4: [130.4382652698368,\n",
       "   130.4382652698368,\n",
       "   204.56377945330843,\n",
       "   151.4382652698368],\n",
       "  5: [130.4382652698368,\n",
       "   130.4382652698368,\n",
       "   215.56377945330843,\n",
       "   151.4382652698368],\n",
       "  6: [130.4382652698368,\n",
       "   130.4382652698368,\n",
       "   235.56377945330843,\n",
       "   151.4382652698368]}}"
      ]
     },
     "execution_count": 17,
     "metadata": {},
     "output_type": "execute_result"
    }
   ],
   "source": [
    "ts = ete3.TreeStyle()\n",
    "\n",
    "ts.show_branch_length=True\n",
    "ts.show_branch_support=True\n",
    "ts.mode=\"c\"\n",
    "\n",
    "\n",
    "tree.render(\"test.pdf\", tree_style=ts)"
   ]
  },
  {
   "cell_type": "code",
   "execution_count": 10,
   "id": "229b5fb3",
   "metadata": {},
   "outputs": [],
   "source": [
    "tree.run_model('M8')\n",
    "\n",
    "# FUCK SLR CAN'T INSTALL THE BASTARD!\n",
    "\n",
    "tree.show (histfaces=['M8'])"
   ]
  },
  {
   "cell_type": "code",
   "execution_count": 9,
   "id": "f6b408b0",
   "metadata": {},
   "outputs": [],
   "source": [
    "model2 = tree.get_evol_model ('M2')\n",
    "\n",
    "model2.set_histface (up=False, ylim=[0,8], errors=True)\n",
    "\n",
    "tree.show(histfaces=['M2'])"
   ]
  },
  {
   "cell_type": "code",
   "execution_count": 6,
   "id": "68d3d40c",
   "metadata": {},
   "outputs": [
    {
     "name": "stdout",
     "output_type": "stream",
     "text": [
      " Evolutionary Model M2:\n",
      "        log likelihood       : -517.824749\n",
      "        number of parameters : 11\n",
      "        sites inference      : BEB, NEB\n",
      "        sites classes        : \n",
      "        proportions : p0=0.98794   p1=0.0       p2=0.01206   \n",
      "        w           : w0=0.09887   w1=1.0       w2=178.86135 \n",
      "        branches             : \n",
      "        mark:     , omega: None      , node_ids: 5   , name: ROOT\n",
      "        mark:     , omega: 2.2553    , node_ids: 6   , name: EDGE\n",
      "        mark:     , omega: 2.2553    , node_ids: 4   , name: Papio_cynocephalus\n",
      "        mark:     , omega: 2.2553    , node_ids: 2   , name: Hylobates_lar\n",
      "        mark:     , omega: 2.2553    , node_ids: 7   , name: EDGE\n",
      "        mark:     , omega: 2.2553    , node_ids: 1   , name: Gorilla_gorilla\n",
      "        mark:     , omega: 2.2553    , node_ids: 3   , name: Pan_troglodytes\n",
      "        \n",
      "M2 model wins.\n",
      "positively selected site P at position: 81, with probability: 0.96293\n"
     ]
    }
   ],
   "source": [
    "tree.run_model ('M1')\n",
    "tree.run_model ('M2')\n",
    "\n",
    "pval = tree.get_most_likely ('M2','M1')\n",
    "\n",
    "model2 = tree.get_evol_model('M2')\n",
    "\n",
    "print(model2)\n",
    "\n",
    "# Evolutionary Model M2:\n",
    "#        log likelihood       : -517.824749\n",
    "#        number of parameters : 11\n",
    "#        sites inference      : BEB, NEB\n",
    "#        sites classes        :\n",
    "#           proportions: p0=0.98794   p1=0.00000   p2=0.01206\n",
    "#           w          : w0=0.09887   w1=1.00000   w2=178.86153\n",
    "#        branches             :\n",
    "#           mark: #0, omega: 2.25526440485   , nodes paml_ids: 6 4 2 7 1 3\n",
    "\n",
    "if pval < 0.05:\n",
    "  print('M2 model wins.')\n",
    "  for s in range(len(model2.sites['BEB']['aa'])):\n",
    "    if model2.sites['BEB']['p2'][s] > 0.95:\n",
    "      print('positively selected site %s at position: %s, with probability: %s' % (model2.sites['BEB']['aa'][s], s+1, model2.sites['BEB']['p2'][s]))\n",
    "else:\n",
    "  print('M1 model is not rejected')\n",
    "\n",
    "# M2 model wins.\n",
    "# positively selected site P at position: 81, with probability: 0.96293"
   ]
  },
  {
   "cell_type": "code",
   "execution_count": 12,
   "id": "6c770c98",
   "metadata": {},
   "outputs": [
    {
     "name": "stdout",
     "output_type": "stream",
     "text": [
      " Evolutionary Model M8:\n",
      "        log likelihood       : -517.850998\n",
      "        number of parameters : 11\n",
      "        sites inference      : BEB, NEB\n",
      "        sites classes        : \n",
      "        proportions : p0=0.12349   p1=0.12349   p2=0.12349   p3=0.12349   p4=0.12349   p5=0.12349   p6=0.12349   p7=0.12349   p8=0.01207   \n",
      "        w           : w0=0.05983   w1=0.0743    w2=0.08423   w3=0.09308   w4=0.10198   w5=0.11188   w6=0.12449   w7=0.14656   w8=176.64445 \n",
      "        branches             : \n",
      "        mark:     , omega: None      , node_ids: 5   , name: ROOT\n",
      "        mark:     , omega: 2.2303    , node_ids: 6   , name: EDGE\n",
      "        mark:     , omega: 2.2303    , node_ids: 4   , name: Papio_cynocephalus\n",
      "        mark:     , omega: 2.2303    , node_ids: 2   , name: Hylobates_lar\n",
      "        mark:     , omega: 2.2303    , node_ids: 7   , name: EDGE\n",
      "        mark:     , omega: 2.2303    , node_ids: 1   , name: Gorilla_gorilla\n",
      "        mark:     , omega: 2.2303    , node_ids: 3   , name: Pan_troglodytes\n",
      "        \n",
      "M8 model wins.\n"
     ]
    }
   ],
   "source": [
    "# JRA just  changed 2 to 8 and 1 to 7, dunno if that was  correct\n",
    "tree.run_model ('M7')\n",
    "tree.run_model ('M8')\n",
    "\n",
    "pval = tree.get_most_likely ('M8','M7')\n",
    "\n",
    "model2 = tree.get_evol_model('M8')\n",
    "\n",
    "print(model2)\n",
    "\n",
    "# Evolutionary Model M2:\n",
    "#        log likelihood       : -517.824749\n",
    "#        number of parameters : 11\n",
    "#        sites inference      : BEB, NEB\n",
    "#        sites classes        :\n",
    "#           proportions: p0=0.98794   p1=0.00000   p2=0.01206\n",
    "#           w          : w0=0.09887   w1=1.00000   w2=178.86153\n",
    "#        branches             :\n",
    "#           mark: #0, omega: 2.25526440485   , nodes paml_ids: 6 4 2 7 1 3\n",
    "\n",
    "if pval < 0.05:\n",
    "  print('M8 model wins.')\n",
    "  for s in range(len(model2.sites['BEB']['aa'])):\n",
    "    if model2.sites['BEB']['p2'][s] > 0.95:\n",
    "      print('positively selected site %s at position: %s, with probability: %s' % (model2.sites['BEB']['aa'][s], s+1, model2.sites['BEB']['p2'][s]))\n",
    "else:\n",
    "  print('M1 model is not rejected')\n",
    "\n",
    "# M2 model wins.\n",
    "# positively selected site P at position: 81, with probability: 0.96293"
   ]
  },
  {
   "cell_type": "code",
   "execution_count": null,
   "id": "1276edbe",
   "metadata": {},
   "outputs": [],
   "source": []
  },
  {
   "cell_type": "code",
   "execution_count": 3,
   "id": "56a7b9a2",
   "metadata": {},
   "outputs": [
    {
     "name": "stdout",
     "output_type": "stream",
     "text": [
      "\n",
      "               /-65128.T0800125\n",
      "              |\n",
      "            /-|      /-65129.T0550146\n",
      "           |  |   /-|\n",
      "           |  |  |   \\-44029.T00600155\n",
      "           |   \\-|\n",
      "           |     |   /-65129.T0800141\n",
      "         /-|      \\-|\n",
      "        |  |         \\-44029.T00560143\n",
      "        |  |\n",
      "        |  |      /-266149.00072140\n",
      "        |  |   /-|\n",
      "        |  |  |  |   /-5911.00146340\n",
      "        |   \\-|   \\-|\n",
      "        |     |      \\-78437.00045210\n",
      "      /-|     |\n",
      "     |  |      \\-44030.15668\n",
      "     |  |\n",
      "     |  |         /-5886.T0660164\n",
      "     |  |      /-|\n",
      "     |  |   /-|   \\-43138.T0680088\n",
      "     |  |  |  |\n",
      "     |  |  |   \\-219701.T00130141\n",
      "     |  |  |\n",
      "   /-|   \\-|      /-5888.T0650083\n",
      "  |  |     |   /-|\n",
      "  |  |     |  |  |   /-43137.T0510209\n",
      "  |  |     |  |   \\-|\n",
      "  |  |      \\-|     |   /-304694.T00990128\n",
      "  |  |        |      \\-|\n",
      "  |  |        |         \\-304693.T01060010\n",
      "  |  |        |\n",
      "  |  |         \\-65126.T00250144\n",
      "  |  |\n",
      "  |   \\-65126.T02530045\n",
      "  |\n",
      "  |         /-5886.T0450084\n",
      "  |      /-|\n",
      "--|   /-|   \\-43138.T0020076\n",
      "  |  |  |\n",
      "  |  |   \\-219701.T00250015\n",
      "  |  |\n",
      "  |--|         /-5888.T0980134\n",
      "  |  |      /-|\n",
      "  |  |   /-|   \\-5888.T4660001\n",
      "  |  |  |  |\n",
      "  |   \\-|   \\-304694.T01090119\n",
      "  |     |\n",
      "  |     |   /-43137.T1360071\n",
      "  |      \\-|\n",
      "  |         \\-304693.T01110008\n",
      "  |\n",
      "  |   /-65130.T71800001294020121\n",
      "   \\-|\n",
      "      \\-224956.T00430116\n"
     ]
    }
   ],
   "source": [
    "from ete3 import Tree\n",
    "t = Tree(\"/Users/jra/Dropbox/ciliates/Ptetraurelia_CenH3_1.fa.blastp.fa.extract.transcripts.fa.aligned.nwk\", format=1)\n",
    "\n",
    "print(t)"
   ]
  },
  {
   "cell_type": "code",
   "execution_count": 14,
   "id": "c394df60",
   "metadata": {},
   "outputs": [
    {
     "name": "stderr",
     "output_type": "stream",
     "text": [
      "Downloading taxdump.tar.gz from NCBI FTP site (via HTTP)...\n",
      "Done. Parsing...\n"
     ]
    },
    {
     "name": "stdout",
     "output_type": "stream",
     "text": [
      "Loading node names...\n",
      "2523709 names loaded.\n",
      "308256 synonyms loaded.\n",
      "Loading nodes...\n",
      "2523709 nodes loaded.\n",
      "Linking nodes...\n",
      "Tree is loaded.\n",
      "Updating database: /Users/jra/.etetoolkit/taxa.sqlite ...\n",
      " 2523000 generating entries... \n",
      "Uploading to /Users/jra/.etetoolkit/taxa.sqlite\n"
     ]
    },
    {
     "name": "stderr",
     "output_type": "stream",
     "text": [
      "Inserting synonyms:      35000 "
     ]
    },
    {
     "name": "stdout",
     "output_type": "stream",
     "text": [
      "\n"
     ]
    },
    {
     "name": "stderr",
     "output_type": "stream",
     "text": [
      "Inserting taxids:           0   "
     ]
    },
    {
     "name": "stdout",
     "output_type": "stream",
     "text": [
      "\n",
      "\n"
     ]
    },
    {
     "name": "stderr",
     "output_type": "stream",
     "text": [
      "Inserting taxids:       2520000 "
     ]
    },
    {
     "name": "stdout",
     "output_type": "stream",
     "text": [
      "\n"
     ]
    }
   ],
   "source": [
    "from ete3 import NCBITaxa\n",
    "ncbi = NCBITaxa()\n",
    "ncbi.update_taxonomy_database()\n"
   ]
  },
  {
   "cell_type": "code",
   "execution_count": 4,
   "id": "47231521",
   "metadata": {},
   "outputs": [
    {
     "name": "stdout",
     "output_type": "stream",
     "text": [
      "\n",
      "               /-65128.T0800125\n",
      "              |\n",
      "            /-|      /-65129.T0550146\n",
      "           |  |   /-|\n",
      "           |  |  |   \\-44029.T00600155\n",
      "           |   \\-|\n",
      "           |     |   /-65129.T0800141\n",
      "         /-|      \\-|\n",
      "        |  |         \\-44029.T00560143\n",
      "        |  |\n",
      "        |  |      /-266149.00072140\n",
      "        |  |   /-|\n",
      "        |  |  |  |   /-5911.00146340\n",
      "        |   \\-|   \\-|\n",
      "        |     |      \\-78437.00045210\n",
      "      /-|     |\n",
      "     |  |      \\-44030.15668\n",
      "     |  |\n",
      "     |  |         /-5886.T0660164\n",
      "     |  |      /-|\n",
      "     |  |   /-|   \\-43138.T0680088\n",
      "     |  |  |  |\n",
      "     |  |  |   \\-219701.T00130141\n",
      "     |  |  |\n",
      "   /-|   \\-|      /-5888.T0650083\n",
      "  |  |     |   /-|\n",
      "  |  |     |  |  |   /-43137.T0510209\n",
      "  |  |     |  |   \\-|\n",
      "  |  |      \\-|     |   /-304694.T00990128\n",
      "  |  |        |      \\-|\n",
      "  |  |        |         \\-304693.T01060010\n",
      "  |  |        |\n",
      "  |  |         \\-65126.T00250144\n",
      "  |  |\n",
      "  |   \\-65126.T02530045\n",
      "  |\n",
      "  |         /-5886.T0450084\n",
      "  |      /-|\n",
      "--|   /-|   \\-43138.T0020076\n",
      "  |  |  |\n",
      "  |  |   \\-219701.T00250015\n",
      "  |  |\n",
      "  |--|         /-5888.T0980134\n",
      "  |  |      /-|\n",
      "  |  |   /-|   \\-5888.T4660001\n",
      "  |  |  |  |\n",
      "  |   \\-|   \\-304694.T01090119\n",
      "  |     |\n",
      "  |     |   /-43137.T1360071\n",
      "  |      \\-|\n",
      "  |         \\-304693.T01110008\n",
      "  |\n",
      "  |   /-65130.T71800001294020121\n",
      "   \\-|\n",
      "      \\-224956.T00430116\n"
     ]
    }
   ],
   "source": [
    "from ete3 import Tree, NCBITaxa\n",
    "ncbi = NCBITaxa()\n",
    "tree = t\n",
    "ncbi.annotate_tree(tree, taxid_attr=\"name\")\n",
    "print(t)"
   ]
  },
  {
   "cell_type": "code",
   "execution_count": 5,
   "id": "14fad437",
   "metadata": {},
   "outputs": [
    {
     "name": "stdout",
     "output_type": "stream",
     "text": [
      "{5885: 'Paramecium caudatum', 5886: 'Paramecium primaurelia', 5888: 'Paramecium tetraurelia', 5911: 'Tetrahymena thermophila', 43137: 'Paramecium octaurelia', 43138: 'Paramecium pentaurelia', 44029: 'Paramecium jenningsi', 44030: 'Paramecium multimicronucleatum', 65126: 'Paramecium biaurelia', 65128: 'Paramecium sexaurelia', 65129: 'Paramecium sonneborni', 65130: 'Paramecium tredecaurelia', 74790: 'Paramecium bursaria', 78437: 'Taonius borealis', 219701: 'Paramecium novaurelia', 224956: 'Paramecium quadecaurelia', 266149: 'Pseudocohnilembus persalinus', 304693: 'Paramecium decaurelia', 304694: 'Paramecium dodecaurelia'}\n"
     ]
    }
   ],
   "source": [
    "ciliates19 = [266149,\n",
    "    78437,\n",
    "    5911,\n",
    "    44030,\n",
    "    65126,\n",
    "    74790,\n",
    "    5885,\n",
    "    304693,\n",
    "    304694,\n",
    "    44029,\n",
    "    219701,\n",
    "    43137,\n",
    "    43138,\n",
    "    5886,\n",
    "    224956,\n",
    "    65128,\n",
    "    65129,\n",
    "    5888,\n",
    "    65130,]\n",
    "\n",
    "taxid2name = ncbi.get_taxid_translator(ciliates19)\n",
    "print(taxid2name)"
   ]
  },
  {
   "cell_type": "code",
   "execution_count": 1,
   "id": "a041e575",
   "metadata": {},
   "outputs": [
    {
     "ename": "NameError",
     "evalue": "name 'ncbi' is not defined",
     "output_type": "error",
     "traceback": [
      "\u001b[0;31m--------------------------------------------\u001b[0m",
      "\u001b[0;31mNameError\u001b[0m  Traceback (most recent call last)",
      "\u001b[0;32m<ipython-input-1-48131bba5c1d>\u001b[0m in \u001b[0;36m<module>\u001b[0;34m\u001b[0m\n\u001b[0;32m----> 1\u001b[0;31m \u001b[0mlineage\u001b[0m \u001b[0;34m=\u001b[0m \u001b[0mncbi\u001b[0m\u001b[0;34m.\u001b[0m\u001b[0mget_lineage\u001b[0m\u001b[0;34m(\u001b[0m\u001b[0;36m5888\u001b[0m\u001b[0;34m)\u001b[0m\u001b[0;34m\u001b[0m\u001b[0;34m\u001b[0m\u001b[0m\n\u001b[0m\u001b[1;32m      2\u001b[0m \u001b[0mnames\u001b[0m \u001b[0;34m=\u001b[0m \u001b[0mncbi\u001b[0m\u001b[0;34m.\u001b[0m\u001b[0mget_taxid_translator\u001b[0m\u001b[0;34m(\u001b[0m\u001b[0mlineage\u001b[0m\u001b[0;34m)\u001b[0m\u001b[0;34m\u001b[0m\u001b[0;34m\u001b[0m\u001b[0m\n\u001b[1;32m      3\u001b[0m \u001b[0mprint\u001b[0m\u001b[0;34m(\u001b[0m\u001b[0;34m[\u001b[0m\u001b[0mnames\u001b[0m\u001b[0;34m[\u001b[0m\u001b[0mx\u001b[0m\u001b[0;34m]\u001b[0m \u001b[0;32mfor\u001b[0m \u001b[0mx\u001b[0m \u001b[0;32min\u001b[0m \u001b[0mlineage\u001b[0m\u001b[0;34m]\u001b[0m\u001b[0;34m)\u001b[0m\u001b[0;34m\u001b[0m\u001b[0;34m\u001b[0m\u001b[0m\n",
      "\u001b[0;31mNameError\u001b[0m: name 'ncbi' is not defined"
     ]
    }
   ],
   "source": [
    "lineage = ncbi.get_lineage(5888)\n",
    "names = ncbi.get_taxid_translator(lineage)\n",
    "print([names[x] for x in lineage])"
   ]
  },
  {
   "cell_type": "code",
   "execution_count": 35,
   "id": "36080566",
   "metadata": {},
   "outputs": [
    {
     "name": "stdout",
     "output_type": "stream",
     "text": [
      "\n",
      "                                    /-Paramecium tetraurelia\n",
      "                                   |\n",
      "                                   |--Paramecium octaurelia\n",
      "                                   |\n",
      "                                   |--Paramecium pentaurelia\n",
      "                                   |\n",
      "                                   |--Paramecium biaurelia\n",
      "                                   |\n",
      "                                   |--Paramecium bursaria\n",
      "                                   |\n",
      "                                   |--Paramecium sexaurelia\n",
      "                                   |\n",
      "                                   |--Paramecium sonneborni\n",
      "                                   |\n",
      "                                   |--Paramecium tredecaurelia\n",
      "                          /Paramecium\n",
      "                         |         |--Paramecium caudatum\n",
      "                         |         |\n",
      "                         |         |--Paramecium decaurelia\n",
      "                         |         |\n",
      "                         |         |--Paramecium dodecaurelia\n",
      "                         |         |\n",
      "                         |         |--Paramecium novaurelia\n",
      "                         |         |\n",
      "         /Oligohymenophorea        |--Paramecium multimicronucleatum\n",
      "        |                |         |\n",
      "        |                |         |--Paramecium quadecaurelia\n",
      "        |                |         |\n",
      "        |                |         |--Paramecium jenningsi\n",
      "        |                |         |\n",
      "-Eukaryota               |          \\-Paramecium primaurelia\n",
      "        |                |\n",
      "        |                |--Pseudocohnilembus persalinus\n",
      "        |                |\n",
      "        |                 \\-Tetrahymena thermophila\n",
      "        |\n",
      "         \\-Taonius borealis\n"
     ]
    }
   ],
   "source": [
    "tree_test = ncbi.get_topology(ciliates19)\n",
    "print(tree_test.get_ascii(attributes=[\"sci_name\"]))"
   ]
  },
  {
   "cell_type": "code",
   "execution_count": 29,
   "id": "d4b23986",
   "metadata": {},
   "outputs": [
    {
     "ename": "NameError",
     "evalue": "name 'tree_test' is not defined",
     "output_type": "error",
     "traceback": [
      "\u001b[0;31m--------------------------------------------\u001b[0m",
      "\u001b[0;31mNameError\u001b[0m  Traceback (most recent call last)",
      "\u001b[0;32m<ipython-input-29-83a5d7515957>\u001b[0m in \u001b[0;36m<module>\u001b[0;34m\u001b[0m\n\u001b[0;32m----> 1\u001b[0;31m \u001b[0mtree_test\u001b[0m\u001b[0;34m.\u001b[0m\u001b[0mshow\u001b[0m\u001b[0;34m(\u001b[0m\u001b[0;34m)\u001b[0m\u001b[0;34m\u001b[0m\u001b[0;34m\u001b[0m\u001b[0m\n\u001b[0m",
      "\u001b[0;31mNameError\u001b[0m: name 'tree_test' is not defined"
     ]
    }
   ],
   "source": [
    "my_second_fb_model = tree.get_evol_model('fb.example')\n",
    "\n",
    "print(my_first_fb_model)\n",
    "\n",
    "tree.write(format=1, outfile=\"new_tree.nw\")"
   ]
  }
 ],
 "metadata": {
  "kernelspec": {
   "display_name": "Python 3",
   "language": "python",
   "name": "python3"
  },
  "language_info": {
   "codemirror_mode": {
    "name": "ipython",
    "version": 3
   },
   "file_extension": ".py",
   "mimetype": "text/x-python",
   "name": "python",
   "nbconvert_exporter": "python",
   "pygments_lexer": "ipython3",
   "version": "3.6.13"
  }
 },
 "nbformat": 4,
 "nbformat_minor": 5
}
