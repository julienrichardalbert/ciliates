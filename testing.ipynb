{
 "cells": [
  {
   "cell_type": "code",
   "execution_count": 32,
   "id": "49394c19",
   "metadata": {},
   "outputs": [],
   "source": [
    "from ete3 import EvolTree\n",
    "\n",
    "tree = EvolTree(\"((Hylobates_lar,(Gorilla_gorilla,Pan_troglodytes)),Papio_cynocephalus);\")\n",
    "\n",
    "tree.link_to_alignment ('''>Hylobates_lar\n",
    "ATGGCCAGGTACAGATGCTGCCGCAGCCAGAGCCGGAGCAGATGTTACCGCCAGAGCCGGAGCAGATGTTACCGCCAGAGGCAAAGCCAGAGTCGGAGCAGATGTTACCGCCAGAGCCAGAGCCGGAGCAGATGTTACCGCCAGAGACAAAGAAGTCGGAGACGAAGGAGGCGGAGCTGCCAGACACGGAGGAGAGCCATGAGGTGT---CGCCGCAGGTACAGGCTGAGACGTAGAAGCTGTTACCACATTGTATCT\n",
    ">Papio_cynocephalus\n",
    "ATGGCCAGGTACAGATGCTGCCGCAGCCAGAGCCGAAGCAGATGCTATCGCCAGAGCCGGAGCAGATGTAACCGCCAGAGACAGAGCCAAAGCCGGAGAAGCTGCTATCGCCAGAGCCAAAGCCGGAGCAGATGTTACCGCCAGAGACAGAGAAGTCGTAGACGAAGGAGGCGACGCTGCCAGACACGGAGGAGAGCCATGAGGTGCTTCCGCCGCAGGTACAGGCTGAGGCGTAGGAGGCCCTATCACATCGTGTCT\n",
    ">Gorilla_gorilla\n",
    "ATGGCCAGGTACAGATGCTGTCGCAGCCAGAGCCGCAGCAGATGTTACCGGCAGAGCCGGAGCAGGTGTTACCGGCAGAGACAAAGCCAGAGCCGGAGCAGATGCTACCGGCAGAGCCAAAGCCGGAGCAGGTGTTACCGGCAGAGACAAAGAAGTCGCAGACGTAGGCGGAGGAGCTGCCAGACACGGAGGAGAGCCATGAGGTGCTGCCGCCGCAGGTACAGACTGAGACGTAGAAGACCCTATCATATTGTATCT\n",
    ">Pan_troglodytes\n",
    "ATGGCCAGGTACAGATGCTGTCGCAGCCAGAGCCGGAGCAGATGTTACCGGCAGAGACGGAGCAGGTGTTACCGGCAAAGGCAAAGCCAAAGTCGGAGCAGATGTTACCGGCAGAGCCAGAGACGGAGCAGGTGTTACCGGCAAAGACAAAGAAGTCGCAGACGAAGGCGACGGAGCTGCCAGACACGGAGGAGAGCCATGAGGTGCTGCCGCCGCAGGTACAGACTGAGACGTAAAAGATGTTACCATATTGTATCT''')\n",
    "\n",
    "tree.workdir = '/Users/jra/Dropbox/ciliates/'"
   ]
  },
  {
   "cell_type": "code",
   "execution_count": 33,
   "id": "71e4c701",
   "metadata": {},
   "outputs": [],
   "source": [
    "tree.run_model ('fb.example')"
   ]
  },
  {
   "cell_type": "code",
   "execution_count": 35,
   "id": "efa16a00",
   "metadata": {},
   "outputs": [
    {
     "name": "stdout",
     "output_type": "stream",
     "text": [
      " Evolutionary Model fb.example:\n",
      "        log likelihood       : -521.421323\n",
      "        number of parameters : 13\n",
      "        sites inference      : None\n",
      "        sites classes        : None\n",
      "        branches             : \n",
      "        mark: #0  , omega: None      , node_ids: 5   , name: ROOT\n",
      "        mark: #1  , omega: 0.0001    , node_ids: 6   , name: EDGE\n",
      "        mark: #2  , omega: 999.0     , node_ids: 4   , name: Papio_cynocephalus\n",
      "        mark: #3  , omega: 999.0     , node_ids: 2   , name: Hylobates_lar\n",
      "        mark: #4  , omega: 0.0001    , node_ids: 7   , name: EDGE\n",
      "        mark: #5  , omega: 0.1049    , node_ids: 1   , name: Gorilla_gorilla\n",
      "        mark: #6  , omega: 0.5334    , node_ids: 3   , name: Pan_troglodytes\n",
      "        \n"
     ]
    }
   ],
   "source": [
    "my_first_fb_model = tree.get_evol_model('fb.example')\n",
    "\n",
    "print(my_first_fb_model)"
   ]
  },
  {
   "cell_type": "code",
   "execution_count": 38,
   "id": "40d36ef4",
   "metadata": {},
   "outputs": [
    {
     "name": "stdout",
     "output_type": "stream",
     "text": [
      "current model log likelihood: -521.421323\n",
      "current model log likelihood: -521.421323\n",
      "current model log likelihood: -521.421323\n"
     ]
    }
   ],
   "source": [
    "best_model = None\n",
    "best_lnl   = float('-inf')\n",
    "for starting_omega in [0.2, 0.7, 1.2]:\n",
    "    tree.run_model('fb.'+str(starting_omega))\n",
    "    current_model = tree.get_evol_model('fb.'+str(starting_omega))\n",
    "    print('current model log likelihood:', current_model.lnL)\n",
    "    if current_model.lnL > best_lnl:\n",
    "        best_lnl = current_model.lnL\n",
    "        best_model = current_model"
   ]
  },
  {
   "cell_type": "code",
   "execution_count": 40,
   "id": "ccb100d7",
   "metadata": {},
   "outputs": [
    {
     "name": "stdout",
     "output_type": "stream",
     "text": [
      "Running model fb_anc from GUI...\n",
      "Done.\n"
     ]
    }
   ],
   "source": [
    "tree.show()"
   ]
  },
  {
   "cell_type": "code",
   "execution_count": 41,
   "id": "38a7666a",
   "metadata": {},
   "outputs": [],
   "source": [
    "from ete3.treeview.layouts import evol_clean_layout\n",
    "\n",
    "tree.show(layout=evol_clean_layout)"
   ]
  },
  {
   "cell_type": "code",
   "execution_count": 52,
   "id": "e3f7a8cf",
   "metadata": {
    "scrolled": true
   },
   "outputs": [],
   "source": [
    "tree.run_model('M2')\n",
    "\n",
    "# FUCK SLR CAN'T INSTALL THE BASTARD!\n",
    "\n",
    "tree.show (histfaces=['M2'])\n",
    "\n"
   ]
  },
  {
   "cell_type": "code",
   "execution_count": 50,
   "id": "68d3d40c",
   "metadata": {},
   "outputs": [
    {
     "name": "stdout",
     "output_type": "stream",
     "text": [
      " Evolutionary Model M2:\n",
      "        log likelihood       : -517.824749\n",
      "        number of parameters : 11\n",
      "        sites inference      : BEB, NEB\n",
      "        sites classes        : \n",
      "        proportions : p0=0.98794   p1=0.0       p2=0.01206   \n",
      "        w           : w0=0.09887   w1=1.0       w2=178.86135 \n",
      "        branches             : \n",
      "        mark:     , omega: None      , node_ids: 5   , name: ROOT\n",
      "        mark:     , omega: 2.2553    , node_ids: 6   , name: EDGE\n",
      "        mark:     , omega: 2.2553    , node_ids: 4   , name: Papio_cynocephalus\n",
      "        mark:     , omega: 2.2553    , node_ids: 2   , name: Hylobates_lar\n",
      "        mark:     , omega: 2.2553    , node_ids: 7   , name: EDGE\n",
      "        mark:     , omega: 2.2553    , node_ids: 1   , name: Gorilla_gorilla\n",
      "        mark:     , omega: 2.2553    , node_ids: 3   , name: Pan_troglodytes\n",
      "        \n",
      "M2 model wins.\n",
      "positively selected site P at position: 81, with probability: 0.96293\n"
     ]
    }
   ],
   "source": [
    "tree.run_model ('M1')\n",
    "tree.run_model ('M2')\n",
    "\n",
    "pval = tree.get_most_likely ('M2','M1')\n",
    "\n",
    "model2 = tree.get_evol_model('M2')\n",
    "\n",
    "print(model2)\n",
    "\n",
    "# Evolutionary Model M2:\n",
    "#        log likelihood       : -517.824749\n",
    "#        number of parameters : 11\n",
    "#        sites inference      : BEB, NEB\n",
    "#        sites classes        :\n",
    "#           proportions: p0=0.98794   p1=0.00000   p2=0.01206\n",
    "#           w          : w0=0.09887   w1=1.00000   w2=178.86153\n",
    "#        branches             :\n",
    "#           mark: #0, omega: 2.25526440485   , nodes paml_ids: 6 4 2 7 1 3\n",
    "\n",
    "if pval < 0.05:\n",
    "  print('M2 model wins.')\n",
    "  for s in range(len(model2.sites['BEB']['aa'])):\n",
    "    if model2.sites['BEB']['p2'][s] > 0.95:\n",
    "      print('positively selected site %s at position: %s, with probability: %s' % (model2.sites['BEB']['aa'][s], s+1, model2.sites['BEB']['p2'][s]))\n",
    "else:\n",
    "  print('M1 model is not rejected')\n",
    "\n",
    "# M2 model wins.\n",
    "# positively selected site P at position: 81, with probability: 0.96293"
   ]
  },
  {
   "cell_type": "code",
   "execution_count": null,
   "id": "6c770c98",
   "metadata": {},
   "outputs": [],
   "source": []
  },
  {
   "cell_type": "code",
   "execution_count": null,
   "id": "1276edbe",
   "metadata": {},
   "outputs": [],
   "source": []
  },
  {
   "cell_type": "code",
   "execution_count": 57,
   "id": "56a7b9a2",
   "metadata": {},
   "outputs": [
    {
     "name": "stdout",
     "output_type": "stream",
     "text": [
      "\n",
      "            /-65126.P02530045\n",
      "         /-|\n",
      "        |   \\-304693.P01110008\n",
      "        |\n",
      "      /-|   /-219701.P00250015\n",
      "     |  |  |\n",
      "     |  |  |   /-304694.P01090119\n",
      "     |  |  |  |\n",
      "     |   \\-|  |      /-65128.P0800125\n",
      "     |     |  |     |\n",
      "     |     |  |     |         /-65129.P0800141\n",
      "     |     |  |     |      /-|\n",
      "     |     |  |   /-|     |   \\-44029.P00560143\n",
      "     |      \\-|  |  |   /-|\n",
      "     |        |  |  |  |  |   /-44029.P00600155\n",
      "     |        |  |  |  |   \\-|\n",
      "     |        |  |   \\-|      \\-65129.P0550146\n",
      "     |        |  |     |\n",
      "     |        |  |     |   /-44030.15668\n",
      "     |        |  |      \\-|\n",
      "     |         \\-|        |   /-266149.00072140\n",
      "     |           |         \\-|\n",
      "     |           |           |   /-78437.00045210\n",
      "     |           |            \\-|\n",
      "     |           |               \\-5911.00146340\n",
      "   /-|           |\n",
      "  |  |           |   /-219701.P00130141\n",
      "  |  |           |  |\n",
      "  |  |            \\-|      /-5886.P0660164\n",
      "  |  |              |   /-|\n",
      "  |  |              |  |   \\-43138.P0680088\n",
      "  |  |               \\-|\n",
      "  |  |                 |   /-65126.P00250144\n",
      "  |  |                 |  |\n",
      "  |  |                  \\-|   /-43137.P0510209\n",
      "  |  |                    |  |\n",
      "  |  |                     \\-|      /-5888.P0650083\n",
      "  |  |                       |   /-|\n",
      "  |  |                        \\-|   \\-304694.P00990128\n",
      "--|  |                          |\n",
      "  |  |                           \\-304693.P01060010\n",
      "  |  |\n",
      "  |  |      /-43137.P1360071\n",
      "  |  |   /-|\n",
      "  |  |  |  |   /-5888.P0980134\n",
      "  |  |  |   \\-|\n",
      "  |   \\-|      \\-5888.P4660001\n",
      "  |     |\n",
      "  |     |   /-224956.P00430116\n",
      "  |      \\-|\n",
      "  |         \\-65130.P71800001294020121\n",
      "  |\n",
      "  |--43138.P0020076\n",
      "  |\n",
      "   \\-5886.P0450084\n"
     ]
    }
   ],
   "source": [
    "from ete3 import Tree\n",
    "t = Tree(\"/Users/jra/Dropbox/ciliates/Ptetraurelia_CenH3_1.fa.blastp.fa.extract.aligned.nwk\", format=1)\n",
    "\n",
    "print(t)"
   ]
  },
  {
   "cell_type": "code",
   "execution_count": 58,
   "id": "c394df60",
   "metadata": {},
   "outputs": [
    {
     "name": "stderr",
     "output_type": "stream",
     "text": [
      "Downloading taxdump.tar.gz from NCBI FTP site (via HTTP)...\n",
      "Done. Parsing...\n"
     ]
    },
    {
     "name": "stdout",
     "output_type": "stream",
     "text": [
      "Loading node names...\n",
      "2514453 names loaded.\n",
      "305828 synonyms loaded.\n",
      "Loading nodes...\n",
      "2514453 nodes loaded.\n",
      "Linking nodes...\n",
      "Tree is loaded.\n",
      "Updating database: /Users/jra/.etetoolkit/taxa.sqlite ...\n",
      " 2514000 generating entries... 1155000 generating entries... 1908000 generating entries...  generating entries... \n",
      "Uploading to /Users/jra/.etetoolkit/taxa.sqlite\n"
     ]
    },
    {
     "name": "stderr",
     "output_type": "stream",
     "text": [
      "Inserting synonyms:      35000 "
     ]
    },
    {
     "name": "stdout",
     "output_type": "stream",
     "text": [
      "\n"
     ]
    },
    {
     "name": "stderr",
     "output_type": "stream",
     "text": [
      "Inserting taxids:           0   "
     ]
    },
    {
     "name": "stdout",
     "output_type": "stream",
     "text": [
      "\n",
      "\n"
     ]
    },
    {
     "name": "stderr",
     "output_type": "stream",
     "text": [
      "Inserting taxids:       2510000 "
     ]
    },
    {
     "name": "stdout",
     "output_type": "stream",
     "text": [
      "\n"
     ]
    }
   ],
   "source": [
    "from ete3 import NCBITaxa\n",
    "ncbi = NCBITaxa()\n",
    "ncbi.update_taxonomy_database()\n"
   ]
  },
  {
   "cell_type": "code",
   "execution_count": 60,
   "id": "47231521",
   "metadata": {},
   "outputs": [
    {
     "name": "stdout",
     "output_type": "stream",
     "text": [
      "\n",
      "            /-65126.P02530045\n",
      "         /-|\n",
      "        |   \\-304693.P01110008\n",
      "        |\n",
      "      /-|   /-219701.P00250015\n",
      "     |  |  |\n",
      "     |  |  |   /-304694.P01090119\n",
      "     |  |  |  |\n",
      "     |   \\-|  |      /-65128.P0800125\n",
      "     |     |  |     |\n",
      "     |     |  |     |         /-65129.P0800141\n",
      "     |     |  |     |      /-|\n",
      "     |     |  |   /-|     |   \\-44029.P00560143\n",
      "     |      \\-|  |  |   /-|\n",
      "     |        |  |  |  |  |   /-44029.P00600155\n",
      "     |        |  |  |  |   \\-|\n",
      "     |        |  |   \\-|      \\-65129.P0550146\n",
      "     |        |  |     |\n",
      "     |        |  |     |   /-44030.15668\n",
      "     |        |  |      \\-|\n",
      "     |         \\-|        |   /-266149.00072140\n",
      "     |           |         \\-|\n",
      "     |           |           |   /-78437.00045210\n",
      "     |           |            \\-|\n",
      "     |           |               \\-5911.00146340\n",
      "   /-|           |\n",
      "  |  |           |   /-219701.P00130141\n",
      "  |  |           |  |\n",
      "  |  |            \\-|      /-5886.P0660164\n",
      "  |  |              |   /-|\n",
      "  |  |              |  |   \\-43138.P0680088\n",
      "  |  |               \\-|\n",
      "  |  |                 |   /-65126.P00250144\n",
      "  |  |                 |  |\n",
      "  |  |                  \\-|   /-43137.P0510209\n",
      "  |  |                    |  |\n",
      "  |  |                     \\-|      /-5888.P0650083\n",
      "  |  |                       |   /-|\n",
      "  |  |                        \\-|   \\-304694.P00990128\n",
      "--|  |                          |\n",
      "  |  |                           \\-304693.P01060010\n",
      "  |  |\n",
      "  |  |      /-43137.P1360071\n",
      "  |  |   /-|\n",
      "  |  |  |  |   /-5888.P0980134\n",
      "  |  |  |   \\-|\n",
      "  |   \\-|      \\-5888.P4660001\n",
      "  |     |\n",
      "  |     |   /-224956.P00430116\n",
      "  |      \\-|\n",
      "  |         \\-65130.P71800001294020121\n",
      "  |\n",
      "  |--43138.P0020076\n",
      "  |\n",
      "   \\-5886.P0450084\n"
     ]
    }
   ],
   "source": [
    "from ete3 import Tree, NCBITaxa\n",
    "ncbi = NCBITaxa()\n",
    "tree = t\n",
    "ncbi.annotate_tree(tree, taxid_attr=\"name\")\n",
    "print(t)"
   ]
  },
  {
   "cell_type": "code",
   "execution_count": 62,
   "id": "14fad437",
   "metadata": {},
   "outputs": [
    {
     "name": "stdout",
     "output_type": "stream",
     "text": [
      "{5885: 'Paramecium caudatum', 5886: 'Paramecium primaurelia', 5888: 'Paramecium tetraurelia', 5911: 'Tetrahymena thermophila', 43137: 'Paramecium octaurelia', 43138: 'Paramecium pentaurelia', 44029: 'Paramecium jenningsi', 44030: 'Paramecium multimicronucleatum', 65126: 'Paramecium biaurelia', 65128: 'Paramecium sexaurelia', 65129: 'Paramecium sonneborni', 65130: 'Paramecium tredecaurelia', 74790: 'Paramecium bursaria', 78437: 'Taonius borealis', 219701: 'Paramecium novaurelia', 224956: 'Paramecium quadecaurelia', 266149: 'Pseudocohnilembus persalinus', 304693: 'Paramecium decaurelia', 304694: 'Paramecium dodecaurelia'}\n"
     ]
    }
   ],
   "source": [
    "ciliates19 = [266149,\n",
    "    78437,\n",
    "    5911,\n",
    "    44030,\n",
    "    65126,\n",
    "    74790,\n",
    "    5885,\n",
    "    304693,\n",
    "    304694,\n",
    "    44029,\n",
    "    219701,\n",
    "    43137,\n",
    "    43138,\n",
    "    5886,\n",
    "    224956,\n",
    "    65128,\n",
    "    65129,\n",
    "    5888,\n",
    "    65130,]\n",
    "\n",
    "taxid2name = ncbi.get_taxid_translator(ciliates19)\n",
    "print(taxid2name)"
   ]
  },
  {
   "cell_type": "code",
   "execution_count": 69,
   "id": "a041e575",
   "metadata": {},
   "outputs": [
    {
     "name": "stdout",
     "output_type": "stream",
     "text": [
      "['root', 'cellular organisms', 'Eukaryota', 'Sar', 'Alveolata', 'Ciliophora', 'Intramacronucleata', 'Oligohymenophorea', 'Peniculida', 'Parameciidae', 'Paramecium', 'Paramecium tetraurelia']\n"
     ]
    }
   ],
   "source": [
    "lineage = ncbi.get_lineage(5888)\n",
    "names = ncbi.get_taxid_translator(lineage)\n",
    "print([names[taxid] for taxid in lineage])"
   ]
  },
  {
   "cell_type": "code",
   "execution_count": 74,
   "id": "36080566",
   "metadata": {},
   "outputs": [
    {
     "name": "stdout",
     "output_type": "stream",
     "text": [
      "\n",
      "                                    /-Paramecium tetraurelia\n",
      "                                   |\n",
      "                                   |--Paramecium octaurelia\n",
      "                                   |\n",
      "                                   |--Paramecium pentaurelia\n",
      "                                   |\n",
      "                                   |--Paramecium biaurelia\n",
      "                                   |\n",
      "                                   |--Paramecium bursaria\n",
      "                                   |\n",
      "                                   |--Paramecium sexaurelia\n",
      "                                   |\n",
      "                                   |--Paramecium sonneborni\n",
      "                                   |\n",
      "                                   |--Paramecium tredecaurelia\n",
      "                          /Paramecium\n",
      "                         |         |--Paramecium caudatum\n",
      "                         |         |\n",
      "                         |         |--Paramecium decaurelia\n",
      "                         |         |\n",
      "                         |         |--Paramecium dodecaurelia\n",
      "                         |         |\n",
      "                         |         |--Paramecium novaurelia\n",
      "                         |         |\n",
      "         /Oligohymenophorea        |--Paramecium multimicronucleatum\n",
      "        |                |         |\n",
      "        |                |         |--Paramecium quadecaurelia\n",
      "        |                |         |\n",
      "        |                |         |--Paramecium jenningsi\n",
      "        |                |         |\n",
      "-Eukaryota               |          \\-Paramecium primaurelia\n",
      "        |                |\n",
      "        |                |--Pseudocohnilembus persalinus\n",
      "        |                |\n",
      "        |                 \\-Tetrahymena thermophila\n",
      "        |\n",
      "         \\-Taonius borealis\n"
     ]
    }
   ],
   "source": [
    "tree_test = ncbi.get_topology(ciliates19)\n",
    "print(tree_test.get_ascii(attributes=[\"sci_name\"]))"
   ]
  }
 ],
 "metadata": {
  "kernelspec": {
   "display_name": "Python 3",
   "language": "python",
   "name": "python3"
  },
  "language_info": {
   "codemirror_mode": {
    "name": "ipython",
    "version": 3
   },
   "file_extension": ".py",
   "mimetype": "text/x-python",
   "name": "python",
   "nbconvert_exporter": "python",
   "pygments_lexer": "ipython3",
   "version": "3.6.13"
  }
 },
 "nbformat": 4,
 "nbformat_minor": 5
}
