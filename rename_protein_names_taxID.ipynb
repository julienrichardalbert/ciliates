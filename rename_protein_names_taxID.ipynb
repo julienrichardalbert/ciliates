{
 "cells": [
  {
   "cell_type": "code",
   "execution_count": 70,
   "id": "6d126876",
   "metadata": {},
   "outputs": [
    {
     "name": "stdout",
     "output_type": "stream",
     "text": [
      "{'#old': '>taxid', '>PPERSA': '>266149', '>TBOREA': '>78437', '>TTHERM': '>5911', '>PMMNP': '>44030', '>PBIA_V1_4_1': '>65126', '>PBUR_Dd1_1': '>74790', '>PCAU_43c3d_1': '>5885', '>PDEC_223_1': '>304693', '>PDODEC_274_1': '>304694', '>PJENN_M_1': '>44029', '>PNOV_TE_1': '>219701', '>POCTA_138_1': '>43137', '>PPENT_87_1': '>43138', '>PPRIM_AZ9-3_1': '>5886', '>PQUADEC_NiA_1': '>224956', '>PSEX_AZ8_4_1': '>65128', '>PSON_ATCC_30995_1': '>65129', '>PTET_51_1': '>5888', '>PTRED_209_2': '>65130'}\n",
      "#old >taxid\n",
      ">PPERSA >266149\n",
      ">TBOREA >78437\n",
      ">TTHERM >5911\n",
      ">PMMNP >44030\n",
      ">PBIA_V1_4_1 >65126\n",
      ">PBUR_Dd1_1 >74790\n",
      ">PCAU_43c3d_1 >5885\n",
      ">PDEC_223_1 >304693\n",
      ">PDODEC_274_1 >304694\n",
      ">PJENN_M_1 >44029\n",
      ">PNOV_TE_1 >219701\n",
      ">POCTA_138_1 >43137\n",
      ">PPENT_87_1 >43138\n",
      ">PPRIM_AZ9-3_1 >5886\n",
      ">PQUADEC_NiA_1 >224956\n",
      ">PSEX_AZ8_4_1 >65128\n",
      ">PSON_ATCC_30995_1 >65129\n",
      ">PTET_51_1 >5888\n",
      ">PTRED_209_2 >65130\n"
     ]
    }
   ],
   "source": [
    "\n",
    "\n",
    "def read_metadata(metadata_file):\n",
    "    metadata = {}\n",
    "    with open(metadata_file, \"r\") as file:\n",
    "        for line in file:\n",
    "            name, taxid = line.strip().split()\n",
    "            metadata[name] = \">\" + taxid\n",
    "    return metadata\n",
    "\n",
    "\n",
    "def replace_protein_names(proteome_file, metadata_file):\n",
    "    metadata = read_metadata(metadata_file)\n",
    "    print(metadata)\n",
    "    with open(proteome_file, \"r\") as file:\n",
    "        proteome_data = file.read()\n",
    "\n",
    "    for old_ID, taxid in metadata.items():\n",
    "        print(f\"{old_ID}\", f\"{taxid}\")\n",
    "        proteome_data = proteome_data.replace(f\"{old_ID}_\", f\"{taxid}.\")\n",
    "\n",
    "    output_file = proteome_file.replace(\".fa\", \"_taxID.fa\")\n",
    "    with open(output_file, \"w\") as file:\n",
    "        file.write(proteome_data)\n",
    "\n",
    "# Replace the paths with your actual file paths\n",
    "proteome_file = \"/Users/jra/Dropbox/ciliates/proteomes/ciliates.fa\"\n",
    "metadata_file = \"/Users/jra/Dropbox/ciliates/proteomes/metadata_unique_taxid.txt\"\n",
    "\n",
    "replace_protein_names(proteome_file, metadata_file)\n",
    "\n"
   ]
  },
  {
   "cell_type": "code",
   "execution_count": null,
   "id": "157ccbbd",
   "metadata": {},
   "outputs": [],
   "source": []
  }
 ],
 "metadata": {
  "kernelspec": {
   "display_name": "Python 3",
   "language": "python",
   "name": "python3"
  },
  "language_info": {
   "codemirror_mode": {
    "name": "ipython",
    "version": 3
   },
   "file_extension": ".py",
   "mimetype": "text/x-python",
   "name": "python",
   "nbconvert_exporter": "python",
   "pygments_lexer": "ipython3",
   "version": "3.6.13"
  }
 },
 "nbformat": 4,
 "nbformat_minor": 5
}
