{
 "cells": [
  {
   "cell_type": "code",
   "execution_count": 6,
   "id": "2969163a",
   "metadata": {},
   "outputs": [
    {
     "name": "stdout",
     "output_type": "stream",
     "text": [
      "Phylogenetic tree created and saved to Ptetraurelia_CenH3_1_hits_default_blastp.fa.extractFromTree.CenH3.aligned.nwk\n"
     ]
    }
   ],
   "source": [
    "from Bio import SeqIO\n",
    "from Bio.Align.Applications import MafftCommandline\n",
    "from Bio import AlignIO\n",
    "from Bio.Phylo.TreeConstruction import DistanceCalculator\n",
    "from Bio.Phylo.TreeConstruction import DistanceTreeConstructor\n",
    "from Bio import Phylo\n",
    "\n",
    "# Step 1: Read the protein sequences from the FASTA file\n",
    "fasta_file = \"Ptetraurelia_CenH3_1_hits_default_blastp.fa.extractFromTree.CenH3\"\n",
    "sequences = list(SeqIO.parse(fasta_file, \"fasta\"))\n",
    "\n",
    "# Step 2: Perform multiple sequence alignment using MAFFT\n",
    "alignment_file = fasta_file + \".aligned\"\n",
    "mafft_cline = MafftCommandline(input=fasta_file)\n",
    "stdout, stderr = mafft_cline()\n",
    "with open(alignment_file, \"w\") as handle:\n",
    "    handle.write(stdout)\n",
    "\n",
    "# Step 3: Calculate the distance matrix\n",
    "alignment = AlignIO.read(alignment_file, \"fasta\")\n",
    "calculator = DistanceCalculator(\"identity\")\n",
    "distance_matrix = calculator.get_distance(alignment)\n",
    "\n",
    "# Step 4: Construct the phylogenetic tree\n",
    "constructor = DistanceTreeConstructor()\n",
    "tree = constructor.nj(distance_matrix)\n",
    "\n",
    "# Step 5: Save the tree to a file\n",
    "tree_file = fasta_file + \".aligned.nwk\"\n",
    "Phylo.write(tree, tree_file, \"newick\")\n",
    "\n",
    "print(\"Phylogenetic tree created and saved to\", tree_file)\n",
    "\n",
    "\n",
    "\n"
   ]
  }
 ],
 "metadata": {
  "kernelspec": {
   "display_name": "Python 3",
   "language": "python",
   "name": "python3"
  },
  "language_info": {
   "codemirror_mode": {
    "name": "ipython",
    "version": 3
   },
   "file_extension": ".py",
   "mimetype": "text/x-python",
   "name": "python",
   "nbconvert_exporter": "python",
   "pygments_lexer": "ipython3",
   "version": "3.6.13"
  }
 },
 "nbformat": 4,
 "nbformat_minor": 5
}
